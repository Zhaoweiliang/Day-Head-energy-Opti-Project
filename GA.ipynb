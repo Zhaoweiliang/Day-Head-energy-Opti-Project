{
 "cells": [
  {
   "cell_type": "code",
   "execution_count": 209,
   "metadata": {},
   "outputs": [],
   "source": [
    "import random\n",
    "from Hourbid import *\n",
    "from Fibid import *\n",
    "from blockbid import *"
   ]
  },
  {
   "cell_type": "code",
   "execution_count": 210,
   "metadata": {},
   "outputs": [],
   "source": [
    "BS_bids = Blockbid()[0]\n",
    "BD_bids = Blockbid()[1]\n",
    "HS_bids = HourBid()[0]\n",
    "HD_bids = HourBid()[1]\n",
    "FS_bids = Fibid()[0]\n",
    "FD_bids = Fibid()[1]"
   ]
  },
  {
   "cell_type": "markdown",
   "metadata": {},
   "source": [
    "$$\\left[[HS][HD][FS][FD][BS][BD] \\right]$$"
   ]
  },
  {
   "cell_type": "code",
   "execution_count": 211,
   "metadata": {},
   "outputs": [],
   "source": [
    "# Heuristic Algorithm for flexible bids\n",
    "temp1 = []\n",
    "for i in range(len(FS_bids)):\n",
    "    temp1.append(random.randint(0,23))\n",
    "    \n",
    "temp2 = []\n",
    "for i in range(len(FS_bids)):\n",
    "    temp2.append(random.randint(0,23))\n",
    "    \n",
    "def HA_FB(temp,Hour):\n",
    "    res=[0 for i in range(len(FS_bids))]\n",
    "    x=np.where(np.array(temp)==Hour)[0]\n",
    "    for j in x:\n",
    "        res[j]=1.0\n",
    "    return res"
   ]
  },
  {
   "cell_type": "code",
   "execution_count": 212,
   "metadata": {},
   "outputs": [],
   "source": [
    "# Heuristic Algorithm for flexible bids\n",
    "\n",
    "\n",
    "def HA_B():\n",
    "    NoneChild_D=[]\n",
    "    NoneChild_S=[]\n",
    "\n",
    "    for i in range(len(BD_bids)):\n",
    "        if BD_bids.isnull()['LinkID'][i] == True:\n",
    "            NoneChild_D.append(i)\n",
    "    for i in range(len(BS_bids)):\n",
    "        if BS_bids.isnull()['LinkID'][i] == True:\n",
    "            NoneChild_S.append(i)\n",
    "    BD=[ 0 for i in range(len(BD_bids))]\n",
    "    BS=[ 0 for i in range(len(BS_bids))]\n",
    "    for i in NoneChild_D:\n",
    "        BD[i] = random.randint(0,1)\n",
    "    for i in NoneChild_S:\n",
    "        BS[i] = random.randint(0,1)\n",
    "    return BS,BD"
   ]
  },
  {
   "cell_type": "code",
   "execution_count": 213,
   "metadata": {},
   "outputs": [],
   "source": [
    "def generate_population():\n",
    "    population = [[] for i in range(4)]\n",
    "\n",
    "    # Inital Supply side population\n",
    "    for i in range(24):\n",
    "        length_H = HIndex_S[i][-1]-HIndex_S[i][0]+1\n",
    "        individual_H = [random.randint(0, 1) for j in range(length_H)]\n",
    "        population[0].append(individual_H)\n",
    "        population[2].append(HA_FB(temp1,i))\n",
    "    individual_B = [random.randint(0, 1) for j in range(len(BS_bids))]\n",
    "    \n",
    "    \n",
    "    # Inital Demand side population\n",
    "    for i in range(24):\n",
    "        length_H = HIndex_D[i][-1]-HIndex_D[i][0]+1\n",
    "        individual_H = [random.randint(0, 1) for j in range(length_H)]\n",
    "        population[1].append(individual_H)\n",
    "        population[3].append(HA_FB(temp2,i))\n",
    "    population.append(HA_B()[0])\n",
    "    population.append(HA_B()[1])\n",
    "    \n",
    "    return population"
   ]
  },
  {
   "cell_type": "code",
   "execution_count": null,
   "metadata": {},
   "outputs": [],
   "source": []
  }
 ],
 "metadata": {
  "kernelspec": {
   "display_name": "Python 3.9.12 ('base')",
   "language": "python",
   "name": "python3"
  },
  "language_info": {
   "codemirror_mode": {
    "name": "ipython",
    "version": 3
   },
   "file_extension": ".py",
   "mimetype": "text/x-python",
   "name": "python",
   "nbconvert_exporter": "python",
   "pygments_lexer": "ipython3",
   "version": "3.9.12"
  },
  "orig_nbformat": 4,
  "vscode": {
   "interpreter": {
    "hash": "6a81d01cf25d5cb27baae2d6889786b15d49b10dbcd992301732598194e0dc30"
   }
  }
 },
 "nbformat": 4,
 "nbformat_minor": 2
}
