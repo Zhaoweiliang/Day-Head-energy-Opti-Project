{
 "cells": [
  {
   "cell_type": "code",
   "execution_count": 500,
   "metadata": {},
   "outputs": [],
   "source": [
    "import random\n",
    "from Hourbid import *\n",
    "from Fibid import *\n",
    "from blockbid import *\n",
    "import matplotlib.pyplot as plt    \n",
    "from tqdm import tqdm\n",
    "import copy"
   ]
  },
  {
   "cell_type": "code",
   "execution_count": 501,
   "metadata": {},
   "outputs": [
    {
     "name": "stdout",
     "output_type": "stream",
     "text": [
      "The line_profiler extension is already loaded. To reload it, use:\n",
      "  %reload_ext line_profiler\n"
     ]
    }
   ],
   "source": [
    "from line_profiler import LineProfiler\n",
    "from functools import wraps\n",
    " \n",
    "%load_ext line_profiler"
   ]
  },
  {
   "cell_type": "code",
   "execution_count": 502,
   "metadata": {},
   "outputs": [],
   "source": [
    "BS_bids = Blockbid()[0]\n",
    "BD_bids = Blockbid()[1]\n",
    "HS_bids = HourBid()[0]\n",
    "HD_bids = HourBid()[1]\n",
    "FS_bids = Fibid()[0]\n",
    "FD_bids = Fibid()[1]"
   ]
  },
  {
   "cell_type": "code",
   "execution_count": 503,
   "metadata": {},
   "outputs": [
    {
     "data": {
      "text/plain": [
       "<matplotlib.lines.Line2D at 0x168cfea60>"
      ]
     },
     "execution_count": 503,
     "metadata": {},
     "output_type": "execute_result"
    },
    {
     "data": {
      "image/png": "[encoded data removed]",
      "text/plain": [
       "<Figure size 432x288 with 1 Axes>"
      ]
     },
     "metadata": {
      "needs_background": "light"
     },
     "output_type": "display_data"
    }
   ],
   "source": [
    "x = HS_bids['price'][0:1000]\n",
    "y= HS_bids['Quantity'][0:1000]\n",
    "x2 = HD_bids['price'][0:1000]\n",
    "y2= HD_bids['Quantity'][0:1000]\n",
    "plt.plot(x,y)\n",
    "plt.plot(x2,y2)\n",
    "plt.axvline(147)"
   ]
  },
  {
   "cell_type": "code",
   "execution_count": 504,
   "metadata": {},
   "outputs": [
    {
     "data": {
      "text/html": [
       "<div>\n",
       "<style scoped>\n",
       "    .dataframe tbody tr th:only-of-type {\n",
       "        vertical-align: middle;\n",
       "    }\n",
       "\n",
       "    .dataframe tbody tr th {\n",
       "        vertical-align: top;\n",
       "    }\n",
       "\n",
       "    .dataframe thead th {\n",
       "        text-align: right;\n",
       "    }\n",
       "</style>\n",
       "<table border=\"1\" class=\"dataframe\">\n",
       "  <thead>\n",
       "    <tr style=\"text-align: right;\">\n",
       "      <th></th>\n",
       "      <th>ID</th>\n",
       "      <th>OrderID</th>\n",
       "      <th>Hour</th>\n",
       "      <th>BitType</th>\n",
       "      <th>Quantity</th>\n",
       "      <th>price</th>\n",
       "      <th>Duration</th>\n",
       "      <th>LinkID</th>\n",
       "    </tr>\n",
       "  </thead>\n",
       "  <tbody>\n",
       "    <tr>\n",
       "      <th>0</th>\n",
       "      <td>12</td>\n",
       "      <td>1000</td>\n",
       "      <td>1</td>\n",
       "      <td>S</td>\n",
       "      <td>156716.0</td>\n",
       "      <td>2000.00</td>\n",
       "      <td>1</td>\n",
       "      <td>NaN</td>\n",
       "    </tr>\n",
       "    <tr>\n",
       "      <th>1</th>\n",
       "      <td>12</td>\n",
       "      <td>999</td>\n",
       "      <td>1</td>\n",
       "      <td>S</td>\n",
       "      <td>156751.0</td>\n",
       "      <td>1996.76</td>\n",
       "      <td>1</td>\n",
       "      <td>NaN</td>\n",
       "    </tr>\n",
       "    <tr>\n",
       "      <th>2</th>\n",
       "      <td>12</td>\n",
       "      <td>998</td>\n",
       "      <td>1</td>\n",
       "      <td>S</td>\n",
       "      <td>156767.0</td>\n",
       "      <td>1995.25</td>\n",
       "      <td>1</td>\n",
       "      <td>NaN</td>\n",
       "    </tr>\n",
       "    <tr>\n",
       "      <th>3</th>\n",
       "      <td>12</td>\n",
       "      <td>997</td>\n",
       "      <td>1</td>\n",
       "      <td>S</td>\n",
       "      <td>156794.0</td>\n",
       "      <td>1992.78</td>\n",
       "      <td>1</td>\n",
       "      <td>NaN</td>\n",
       "    </tr>\n",
       "    <tr>\n",
       "      <th>4</th>\n",
       "      <td>12</td>\n",
       "      <td>996</td>\n",
       "      <td>1</td>\n",
       "      <td>S</td>\n",
       "      <td>156822.0</td>\n",
       "      <td>1990.18</td>\n",
       "      <td>1</td>\n",
       "      <td>NaN</td>\n",
       "    </tr>\n",
       "    <tr>\n",
       "      <th>...</th>\n",
       "      <td>...</td>\n",
       "      <td>...</td>\n",
       "      <td>...</td>\n",
       "      <td>...</td>\n",
       "      <td>...</td>\n",
       "      <td>...</td>\n",
       "      <td>...</td>\n",
       "      <td>...</td>\n",
       "    </tr>\n",
       "    <tr>\n",
       "      <th>23995</th>\n",
       "      <td>242</td>\n",
       "      <td>5</td>\n",
       "      <td>24</td>\n",
       "      <td>S</td>\n",
       "      <td>199186.0</td>\n",
       "      <td>6.50</td>\n",
       "      <td>1</td>\n",
       "      <td>NaN</td>\n",
       "    </tr>\n",
       "    <tr>\n",
       "      <th>23996</th>\n",
       "      <td>242</td>\n",
       "      <td>4</td>\n",
       "      <td>24</td>\n",
       "      <td>S</td>\n",
       "      <td>199270.0</td>\n",
       "      <td>5.22</td>\n",
       "      <td>1</td>\n",
       "      <td>NaN</td>\n",
       "    </tr>\n",
       "    <tr>\n",
       "      <th>23997</th>\n",
       "      <td>242</td>\n",
       "      <td>3</td>\n",
       "      <td>24</td>\n",
       "      <td>S</td>\n",
       "      <td>199466.0</td>\n",
       "      <td>2.79</td>\n",
       "      <td>1</td>\n",
       "      <td>NaN</td>\n",
       "    </tr>\n",
       "    <tr>\n",
       "      <th>23998</th>\n",
       "      <td>242</td>\n",
       "      <td>2</td>\n",
       "      <td>24</td>\n",
       "      <td>S</td>\n",
       "      <td>199637.0</td>\n",
       "      <td>1.29</td>\n",
       "      <td>1</td>\n",
       "      <td>NaN</td>\n",
       "    </tr>\n",
       "    <tr>\n",
       "      <th>23999</th>\n",
       "      <td>242</td>\n",
       "      <td>1</td>\n",
       "      <td>24</td>\n",
       "      <td>S</td>\n",
       "      <td>200000.0</td>\n",
       "      <td>0.00</td>\n",
       "      <td>1</td>\n",
       "      <td>NaN</td>\n",
       "    </tr>\n",
       "  </tbody>\n",
       "</table>\n",
       "<p>24000 rows × 8 columns</p>\n",
       "</div>"
      ],
      "text/plain": [
       "        ID  OrderID  Hour BitType  Quantity    price  Duration  LinkID\n",
       "0       12     1000     1       S  156716.0  2000.00         1     NaN\n",
       "1       12      999     1       S  156751.0  1996.76         1     NaN\n",
       "2       12      998     1       S  156767.0  1995.25         1     NaN\n",
       "3       12      997     1       S  156794.0  1992.78         1     NaN\n",
       "4       12      996     1       S  156822.0  1990.18         1     NaN\n",
       "...    ...      ...   ...     ...       ...      ...       ...     ...\n",
       "23995  242        5    24       S  199186.0     6.50         1     NaN\n",
       "23996  242        4    24       S  199270.0     5.22         1     NaN\n",
       "23997  242        3    24       S  199466.0     2.79         1     NaN\n",
       "23998  242        2    24       S  199637.0     1.29         1     NaN\n",
       "23999  242        1    24       S  200000.0     0.00         1     NaN\n",
       "\n",
       "[24000 rows x 8 columns]"
      ]
     },
     "execution_count": 504,
     "metadata": {},
     "output_type": "execute_result"
    }
   ],
   "source": [
    "HD_bids"
   ]
  },
  {
   "cell_type": "code",
   "execution_count": 505,
   "metadata": {},
   "outputs": [
    {
     "data": {
      "text/plain": [
       "-7861.0"
      ]
     },
     "execution_count": 505,
     "metadata": {},
     "output_type": "execute_result"
    }
   ],
   "source": [
    "HS_bids['Quantity'][0]-HD_bids['Quantity'][1000]"
   ]
  },
  {
   "cell_type": "code",
   "execution_count": 506,
   "metadata": {},
   "outputs": [],
   "source": [
    "def Pairs(postion,Hour,DF,QP):\n",
    "    \n",
    "    if QP == 'DQ':\n",
    "        DF=DF.iloc[HIndex_D[Hour][0]:HIndex_D[Hour][1]+1]\n",
    "        return [DF['Quantity'][postion+HIndex_D[Hour][0]],DF['Quantity'][postion+1+HIndex_D[Hour][0]]]\n",
    "    if QP == 'SQ':\n",
    "        DF=DF.iloc[HIndex_S[Hour][0]:HIndex_S[Hour][1]+1]\n",
    "        return [DF['Quantity'][postion+HIndex_S[Hour][0]],DF['Quantity'][postion+1+HIndex_S[Hour][0]]]\n",
    "    if QP == 'DP':\n",
    "        DF=DF.iloc[HIndex_D[Hour][0]:HIndex_D[Hour][1]+1]\n",
    "        return [DF['price'][postion+HIndex_D[Hour][0]],DF['price'][postion+1+HIndex_D[Hour][0]]]\n",
    "    else:\n",
    "        DF=DF.iloc[HIndex_S[Hour][0]:HIndex_S[Hour][1]+1]\n",
    "        return [DF['price'][postion+HIndex_S[Hour][0]],DF['price'][postion+1+HIndex_S[Hour][0]]]\n",
    "    \n",
    "Delta_S = np.zeros([len(BS_bids),24])\n",
    "\n",
    "\n",
    "Delta_D = np.zeros([len(BD_bids),24])\n",
    "BD_bids  = Blockbid()[1]\n",
    "for i in range (len(BD_bids)):\n",
    "    if BD_bids['Hour'][i]+BD_bids['Duration'][i]<=25:\n",
    "        Delta_D[i,BD_bids['Hour'][i]-1:(BD_bids['Hour'][i]+BD_bids['Duration'][i])-1] = 1\n",
    "\n",
    "BS_bids = Blockbid()[0]\n",
    "for i in range (len(BS_bids)):\n",
    "    if BS_bids['Hour'][i]+BS_bids['Duration'][i]<=25:\n",
    "        Delta_S[i,BS_bids['Hour'][i]-1:(BS_bids['Hour'][i]+BS_bids['Duration'][i])-1] = 1"
   ]
  },
  {
   "cell_type": "code",
   "execution_count": 507,
   "metadata": {},
   "outputs": [
    {
     "data": {
      "text/plain": [
       "[0.0, 1.0, 0.0, 0.0, 0.0, 0.0, 0.0, 0.0, 0.0, 0.0]"
      ]
     },
     "execution_count": 507,
     "metadata": {},
     "output_type": "execute_result"
    }
   ],
   "source": [
    "x=np.zeros(10)\n",
    "x[1]=1\n",
    "list(x)"
   ]
  },
  {
   "cell_type": "code",
   "execution_count": 508,
   "metadata": {},
   "outputs": [],
   "source": [
    "# Heuristic Algorithm for flexible bids\n",
    "\n",
    "    \n",
    "def HA_FB():\n",
    "    temp1 = []\n",
    "    for i in range(len(FS_bids)):\n",
    "        temp1.append(random.randint(0,23))\n",
    "        \n",
    "    temp2 = []\n",
    "    for i in range(len(FD_bids)):\n",
    "        temp2.append(random.randint(0,23))\n",
    "    res1 = []\n",
    "    res2 = []\n",
    "    for h in range(24):\n",
    "        t1=np.zeros(len(FS_bids))\n",
    "        t2=np.zeros(len(FD_bids))\n",
    "        x1=np.where(np.array(temp1)==h)[0]\n",
    "        x2=np.where(np.array(temp2)==h)[0]\n",
    "        for j in x1:\n",
    "            t1[j]=1\n",
    "        res1.append(list(t1))\n",
    "        for k in x2:\n",
    "            t2[k]=1\n",
    "        res2.append(list(t2))\n",
    "    return res1,res2"
   ]
  },
  {
   "cell_type": "code",
   "execution_count": 509,
   "metadata": {},
   "outputs": [],
   "source": [
    "NoneChild_D=[]\n",
    "Child_D = []\n",
    "Parent_D=[]\n",
    "NoneChild_S=[]\n",
    "Child_S=[]\n",
    "Parent_S=[]\n",
    "for i in range(len(BD_bids)):\n",
    "    if BD_bids.isnull()['LinkID'][i] == True:\n",
    "        NoneChild_D.append(i)\n",
    "    else:\n",
    "        Parent_D.append(np.where(BD_bids['ID']==BD_bids['LinkID'][i])[0][0])\n",
    "        Child_D.append(i)\n",
    "for i in range(len(BS_bids)):\n",
    "    if BS_bids.isnull()['LinkID'][i] == True:\n",
    "        NoneChild_S.append(i)\n",
    "    else:\n",
    "        Parent_S.append(np.where(BS_bids['ID']==BS_bids['LinkID'][i])[0][0])\n",
    "        Child_S.append(i)"
   ]
  },
  {
   "cell_type": "code",
   "execution_count": 593,
   "metadata": {},
   "outputs": [],
   "source": [
    "import pandas as pd\n",
    "\n",
    "\n",
    "def build_tree(df):\n",
    "    nodes = {}\n",
    "    for idx, row in df.iterrows():\n",
    "        node_id = row['ID']\n",
    "        parent_id = row['LinkID']\n",
    "        # nodes[node_id] = {'parent': parent_id, 'children': [], 'data': row}\n",
    "        nodes[node_id] = {'parent': parent_id, 'children': []}\n",
    "\n",
    "        if not pd.isnull(parent_id):\n",
    "            if parent_id not in nodes:\n",
    "                nodes[parent_id] = {'parent': None, 'children': [], 'data': None}\n",
    "            nodes[parent_id]['children'].append(node_id)\n",
    "    return nodes"
   ]
  },
  {
   "cell_type": "code",
   "execution_count": 510,
   "metadata": {},
   "outputs": [],
   "source": [
    "# Heuristic Algorithm for Block bids\n",
    "\n",
    "\n",
    "def HA_B():\n",
    "\n",
    "    BD=[ 0 for i in range(len(BD_bids))]\n",
    "    BS=[ 0 for i in range(len(BS_bids))]\n",
    "    for i in NoneChild_D:\n",
    "        BD[i] = random.randint(0,1)\n",
    "    for i in NoneChild_S:\n",
    "        BS[i] = random.randint(0,1)\n",
    "    return BS,BD"
   ]
  },
  {
   "cell_type": "code",
   "execution_count": 511,
   "metadata": {},
   "outputs": [],
   "source": [
    "def find_f(a1,a2,b1,b2,x):\n",
    "    grad = (b2-b1)/(a2-a1)\n",
    "    b = b2-grad*a2\n",
    "    return grad*x+b\n",
    "\n",
    "def aggregate(h,BS,BD,FS,FD):\n",
    "    \n",
    "    a = 0+h*1000\n",
    "    b = 1000+h*1000\n",
    "    agg_q=[]\n",
    "    agg_p = []\n",
    "    y1=list(reversed(HD_bids['Quantity'][a:b].tolist()))\n",
    "    y2=HS_bids['Quantity'][a:b].tolist()\n",
    "    x1 = list(reversed(HD_bids['price'][a:b].tolist()))\n",
    "    x2 = HS_bids['price'][a:b].tolist()\n",
    "    \n",
    "    # add Block\n",
    "    for i in range(len(BS)):\n",
    "        if BS[i] * Delta_S[i][h] >0:\n",
    "            k = BS_bids['Quantity'][i]\n",
    "            y2 = list(map(lambda x:x+k,y2))\n",
    "            # for j in range(len(y2)):\n",
    "            #     y2[j]=y2[j]+BS_bids['Quantity'][i]\n",
    "    \n",
    "    for i in range(len(BD)):\n",
    "        if BD[i] * Delta_D[i][h] >0:\n",
    "            k= BD_bids['Quantity'][i]\n",
    "            y1 = list(map(lambda x:x+k,y1))\n",
    "            # for j in range(len(y1)):\n",
    "            #     y1[j]=y1[j]+BD_bids['Quantity'][i]\n",
    "    # #  add Flex\n",
    "    for i in range(len(FS[h])):\n",
    "        if FS[h][i] == 1:\n",
    "            k = FS_bids['Quantity'][i]\n",
    "            y2 = list(map(lambda x:x+k,y2))\n",
    "    for i in range(len(FD[h])):\n",
    "        if FD[h][i] ==1:\n",
    "            k = FD_bids['Quantity'][i]\n",
    "            y1 = list(map(lambda x:x+k,y1))\n",
    "\n",
    "    \n",
    "    for i in range(1000):\n",
    "        if x1[i]==x2[i]:\n",
    "            agg_q.append(y1[i]-y2[i])\n",
    "            agg_p.append(x1[i])\n",
    "        elif x1[i]<x2[i]:\n",
    "            temp = find_f(x2[i-1],x2[i],y2[i-1],y2[i],x1[i])\n",
    "            agg_q.append(y1[i]-temp)\n",
    "            agg_p.append(x1[i])\n",
    "            temp = find_f(x1[i],x1[i+1],y1[i],y1[i+1],x2[i])\n",
    "            agg_q.append(temp-y2[i])\n",
    "            agg_p.append(x2[i])\n",
    "        elif x2[i]<x1[i]:\n",
    "            temp = find_f(x1[i-1],x1[i],y1[i-1],y1[i],x2[i])\n",
    "            agg_q.append(temp-y2[i])\n",
    "            agg_p.append(x2[i])\n",
    "            temp = find_f(x2[i],x2[i+1],y2[i],y2[i+1],x1[i])\n",
    "            agg_q.append(y1[i]-temp)\n",
    "            agg_p.append(x1[i])\n",
    "    # while agg_q[0]*agg_q[-1]>=0:\n",
    "    #     raise Exception(\"no root\")\n",
    "    for i in range(len(agg_q)-1):\n",
    "        if agg_q[i]*agg_q[i+1] <0:\n",
    "            grad = (agg_q[i+1]-agg_q[i])/(agg_p[i+1]-agg_p[i])\n",
    "            b= agg_q[i+1] - agg_p[i+1]*grad\n",
    "            Res = -b/grad          \n",
    "            return Res\n",
    "        "
   ]
  },
  {
   "cell_type": "markdown",
   "metadata": {},
   "source": [
    "$$\\left[[HS][HD][FS][FD][BS][BD] \\right]$$"
   ]
  },
  {
   "cell_type": "code",
   "execution_count": 512,
   "metadata": {},
   "outputs": [],
   "source": [
    "\n",
    "def generate_population():\n",
    "    restart = True\n",
    "    while restart:\n",
    "        restart = False\n",
    "        population = [[] for i in range(4)]\n",
    "        BS,BD = HA_B()\n",
    "        FS,FD = HA_FB()\n",
    "        \n",
    "        \n",
    "        population[2]=FS\n",
    "        population[3]=FD\n",
    "        \n",
    "        population.append(BS)\n",
    "        population.append(BD)\n",
    "        \n",
    "        HS = [np.zeros(999).tolist() for i in range(24)]\n",
    "        HD = [np.zeros(999).tolist() for i in range(24)]\n",
    "        \n",
    "        for h in range(24):\n",
    "            price = aggregate(h,BS,BD,FS,FD)\n",
    "            if price == None:\n",
    "                # print('regenerate')\n",
    "                restart = True\n",
    "                break\n",
    "            BS_INT = np.where(HS_bids['price'][h*1000:1000+h*1000]>price)[0][0]\n",
    "            breakpoint_S = BS_INT + (price-HS_bids['price'][BS_INT-1+1000*h])/abs((HS_bids['price'][BS_INT+1000*h]-HS_bids['price'][BS_INT-1+1000*h]))-1\n",
    "            \n",
    "            BD_INT = np.where(HD_bids['price'][h*1000:1000+h*1000]>price)[0][-1]\n",
    "            breakpoint_D = BD_INT + 1-(price-HD_bids['price'][BD_INT+1+1000*h])/abs((HD_bids['price'][BD_INT+1000*h]-HD_bids['price'][BD_INT+1+1000*h]))\n",
    "            \n",
    "            HS[h][0:int(breakpoint_S)]=np.ones(int(breakpoint_S))\n",
    "            HS[h][int(breakpoint_S)]=breakpoint_S-int(breakpoint_S)\n",
    "            \n",
    "            HD[h][0:int(breakpoint_D)]=np.ones(int(breakpoint_D))\n",
    "            HD[h][int(breakpoint_D)]=breakpoint_D-int(breakpoint_D)\n",
    "            \n",
    "        population[0] = HS\n",
    "        population[1] = HD\n",
    "        \n",
    "    return population"
   ]
  },
  {
   "cell_type": "code",
   "execution_count": 513,
   "metadata": {},
   "outputs": [],
   "source": [
    "def fit(population):\n",
    "    Error = False\n",
    "    #objective value \n",
    "    gamma = 100000\n",
    "    Hour_S = population[0]\n",
    "    Hour_D = population[1]\n",
    "    Block_S = population[4]\n",
    "    Block_D = population[5]\n",
    "    Flex_S = population[2]\n",
    "    Flex_D = population[3]\n",
    "    \n",
    "    \n",
    "    Res_HD = sum(0.5*(2*HD_bids['price'][1000*i+j]+Hour_D[i][j]*(HD_bids['price'][1000*i+j+1]-HD_bids['price'][1000*i+j]))*Hour_D[i][j]*(HD_bids['Quantity'][1000*i+j+1]-HD_bids['Quantity'][1000*i+j]) for j in range(999) for i in range(24))                \n",
    "    Res_HS = sum(0.5*(2*HS_bids['price'][1000*i+j]+Hour_S[i][j]*(HS_bids['price'][1000*i+j+1]-HS_bids['price'][1000*i+j]))*Hour_S[i][j]*(HS_bids['Quantity'][1000*i+j+1]-HS_bids['Quantity'][1000*i+j]) for j in range(999) for i in range(24))  \n",
    "     \n",
    "    Res_BD = sum(BD_bids['Duration'][i]*BD_bids['Quantity'][i]*BD_bids['price'][i]*Block_D[i] for i in range(len(Block_D))) \n",
    "    Res_BS =  sum(BS_bids['Duration'][i]*BS_bids['Quantity'][i]*BS_bids['price'][i]*Block_S[i] for i in range(len(Block_S)))\n",
    "    \n",
    "    Res_FD = sum(FD_bids['Quantity'][i]*FD_bids['price'][i] *sum(Flex_D[h][i] for h in range(24)) for i in range(len(FD_bids))) \n",
    "    Res_FS = sum(FS_bids['Quantity'][i]*FS_bids['price'][i] *sum(Flex_S[h][i] for h in range(24)) for i in range(len(FS_bids)))\n",
    "    \n",
    "    BA = sum(Pair(1,h,HD_bids,'DQ')[0]-Pair(1,h,HD_bids,'DP')[0] for h in range(24))\n",
    "    OBJ_V = Res_HD - Res_HS + Res_BD - Res_BS + Res_FD - Res_FS + BA\n",
    "    price=[]\n",
    "    for h in range(24):\n",
    "        price.append(aggregate(h,Block_S,Block_D,Flex_S,Flex_D))\n",
    "        if aggregate(h,Block_S,Block_D,Flex_S,Flex_D)==None:\n",
    "            print('AGG Error',end='')\n",
    "            Error=True\n",
    "            \n",
    "    \n",
    "    for i in Child_D:\n",
    "        if Block_D[i]==1:\n",
    "            x= np.where(BD_bids['ID']==BD_bids['LinkID'][i])[0][0]\n",
    "            if Block_D[x]!=1:\n",
    "                Error = True\n",
    "                print('D Parent check fail',i)\n",
    "                \n",
    "    # for i in range(len(Child_D)):\n",
    "    #     if Block_D[Child_D[i]]== 1:\n",
    "    #         if Block_D[Parent_D[i]]!=1:\n",
    "    #             Error = True\n",
    "    #             print('D Parent check fail',i,Child_D[i],Block_D[Child_D[i]],Block_D[Parent_D[i]])\n",
    "                \n",
    "    for i in range(len(Child_S)):\n",
    "        if Block_S[Child_S[i]]== 1:\n",
    "            if Block_S[Parent_S[i]]!=1:\n",
    "                Error = True\n",
    "                print('S Parent check fail',i,end='')\n",
    "                \n",
    "                break\n",
    "    \n",
    "  \n",
    "    # penalty by constarint\n",
    "    Penalty = 0\n",
    "    #  # penalty for constraint 6-7    \n",
    "    for h in range(24):\n",
    "        x = sum((HS_bids['price'][1000*h+j+1]-HS_bids['price'][1000*h+j]) * Hour_S[h][j] for j in range(len(Hour_S[h])-1))\n",
    "        y = 2000+sum((HD_bids['price'][1000*h+j+1]-HD_bids['price'][1000*h+j]) * Hour_D[h][j] for j in range(len(Hour_D[h])-1))\n",
    "        for i in range(len(FS_bids)):\n",
    "            if x-FS_bids['price'][i] > gamma*sum(Flex_S[k][i] for k in range(24)):\n",
    "                # print('FS Error',end='')\n",
    "                Error = True\n",
    "                break\n",
    "        for i in range(len(FD_bids)):\n",
    "            if FD_bids['price'][i]-x > gamma*sum(Flex_D[k][i] for k in range(24)):\n",
    "                # print('FD Error',end='')\n",
    "                Error = True\n",
    "                break        \n",
    "        # if round(x,5) == round(y,5):\n",
    "        #     Error=False\n",
    "        # else:\n",
    "        #     Error=True\n",
    "    return OBJ_V,Error,price"
   ]
  },
  {
   "cell_type": "code",
   "execution_count": 514,
   "metadata": {},
   "outputs": [
    {
     "name": "stderr",
     "output_type": "stream",
     "text": [
      "100%|██████████| 100/100 [00:16<00:00,  6.04it/s]\n"
     ]
    }
   ],
   "source": [
    "Sol_set= []\n",
    "for i in tqdm(range(100)):\n",
    "    Sol_set.append(generate_population())"
   ]
  },
  {
   "cell_type": "code",
   "execution_count": 515,
   "metadata": {},
   "outputs": [
    {
     "name": "stderr",
     "output_type": "stream",
     "text": [
      "100%|██████████| 100/100 [01:25<00:00,  1.17it/s]\n"
     ]
    }
   ],
   "source": [
    "\n",
    "for i in tqdm(range(100)):\n",
    "    Sol_set[i].append(fit(Sol_set[i])[0])"
   ]
  },
  {
   "cell_type": "code",
   "execution_count": 516,
   "metadata": {},
   "outputs": [],
   "source": [
    "def cross(A,B,SLD_size):\n",
    "    List1 = copy.deepcopy(A)\n",
    "    List2 = copy.deepcopy(B)\n",
    "    for i in range(2,4):\n",
    "        for h in range(24):\n",
    "            begin = random.randint(SLD_size,len(List1[i][h])-SLD_size)\n",
    "            temp = List1[i][h][begin:begin+SLD_size] \n",
    "            List1[i][h][begin:begin+SLD_size]=List2[i][h][begin:begin+SLD_size]\n",
    "            List2[i][h][begin:begin+SLD_size] = temp\n",
    "    for i in range(4,6):\n",
    "        begin = random.randint(SLD_size,len(List1[i])-SLD_size)\n",
    "        temp =List1[i][begin:begin+SLD_size] \n",
    "        List1[i][begin:begin+SLD_size]=List2[i][begin:begin+SLD_size]\n",
    "        List2[i][begin:begin+SLD_size] = temp\n",
    "    return List1,List2\n",
    "    \n"
   ]
  },
  {
   "cell_type": "code",
   "execution_count": 693,
   "metadata": {},
   "outputs": [],
   "source": [
    "def mut(pop):\n",
    "    temp = copy.deepcopy(pop)\n",
    "    Pm = 0.03\n",
    "    BD_Tree = build_tree(BD_bids)\n",
    "    BS_Tree = build_tree(BS_bids)\n",
    "    for i in range(len(BS_bids)):\n",
    "        if np.random.rand(1)<Pm:\n",
    "            ID = BS_bids['ID'][i]\n",
    "            if temp[4][i] == 0:\n",
    "                if np.isnan(BS_Tree[ID]['parent'])==False and BS_Tree[ID]['parent'] !=0:\n",
    "                    # Loc = np.where(BS_bids['ID']==int(BS_Tree[ID]['parent']))[0][0]\n",
    "                    # temp[4][Loc]=1\n",
    "                    temp[4][i]=1   \n",
    "            if temp[4][i] == 1:\n",
    "                if len(BS_Tree[ID]['children'])!= 0:\n",
    "                    CL=BS_Tree[ID]['children']\n",
    "                    for k in range(len(CL)):\n",
    "                        temp[4][np.where(BS_bids['ID']==int(CL[k]))[0][0]]=0\n",
    "                temp[4][i]=0\n",
    "                \n",
    "    for i in range(len(BD_bids)):\n",
    "        if np.random.rand(1)<Pm:\n",
    "            ID = BD_bids['ID'][i]\n",
    "            if temp[5][i] == 0:\n",
    "                if np.isnan(BD_Tree[ID]['parent'])==False and BD_Tree[ID]['parent'] !=0:\n",
    "                    # Loc = np.where(BD_bids['ID']==int(BD_Tree[ID]['parent']))[0][0]\n",
    "                    # temp[5][Loc]=1\n",
    "                    temp[5][i]=1   \n",
    "            if temp[5][i] == 1:\n",
    "                if len(BD_Tree[ID]['children'])!=0:\n",
    "                    CL=BD_Tree[ID]['children']\n",
    "                    for k in range(len(CL)):\n",
    "                        temp[5][np.where(BD_bids['ID']==int(CL[k]))[0][0]]=0\n",
    "                temp[5][i]=0\n",
    "                                \n",
    "    for i in range(2,4):\n",
    "        for j in range(24):\n",
    "            for k in range(len(temp[i][j])):\n",
    "                    if np.random.rand(1)<Pm:\n",
    "                        temp[i][j][k]=int(not temp[i][j][k])\n",
    "                \n",
    "        \n",
    "    return temp"
   ]
  },
  {
   "cell_type": "code",
   "execution_count": null,
   "metadata": {},
   "outputs": [],
   "source": []
  },
  {
   "cell_type": "code",
   "execution_count": null,
   "metadata": {},
   "outputs": [],
   "source": [
    "link= []\n",
    "for i in range(len(BD_bids)):\n",
    "    temp=[]\n",
    "    while next != None:\n",
    "        if BD_bids.isnull()['LinkID'][i]== True:\n",
    "            temp.append(i)\n",
    "            link.append(temp)\n",
    "            next = None\n",
    "        else:\n",
    "            next=BD_bids['LinkID'][i]\n",
    "            "
   ]
  },
  {
   "cell_type": "code",
   "execution_count": 681,
   "metadata": {},
   "outputs": [
    {
     "name": "stdout",
     "output_type": "stream",
     "text": [
      "2\n",
      "119\n"
     ]
    }
   ],
   "source": [
    "B=build_tree(BD_bids)\n",
    "CL = B[1217]['children']\n",
    "for i in range(len(CL)):\n",
    "    print(np.where(BD_bids['ID']==int(CL[i]))[0][0])"
   ]
  },
  {
   "cell_type": "code",
   "execution_count": 523,
   "metadata": {},
   "outputs": [],
   "source": [
    "def select():\n",
    "    p = random.sample(range(0,100),2)\n",
    "    if Sol_set[p[0]][-1]>Sol_set[p[1]][-1]:\n",
    "        return Sol_set[p[0]]\n",
    "    else:\n",
    "        return Sol_set[p[1]]\n",
    "\n",
    "    "
   ]
  },
  {
   "cell_type": "code",
   "execution_count": 689,
   "metadata": {},
   "outputs": [],
   "source": [
    "Sol_set1 = copy.deepcopy(Sol_set)"
   ]
  },
  {
   "cell_type": "code",
   "execution_count": 525,
   "metadata": {},
   "outputs": [
    {
     "name": "stderr",
     "output_type": "stream",
     "text": [
      "/Users/weiliang/opt/anaconda3/lib/python3.9/site-packages/numpy/core/fromnumeric.py:1970: VisibleDeprecationWarning: Creating an ndarray from ragged nested sequences (which is a list-or-tuple of lists-or-tuples-or ndarrays with different lengths or shapes) is deprecated. If you meant to do this, you must specify 'dtype=object' when creating the ndarray.\n",
      "  result = asarray(a).shape\n"
     ]
    },
    {
     "data": {
      "text/plain": [
       "(100, 7)"
      ]
     },
     "execution_count": 525,
     "metadata": {},
     "output_type": "execute_result"
    }
   ],
   "source": [
    "np.shape(Sol_set1)"
   ]
  },
  {
   "cell_type": "code",
   "execution_count": null,
   "metadata": {},
   "outputs": [],
   "source": [
    "sorted_id = sorted(range(len(Sol_set)), key=lambda k: Sol_set[k][6], reverse=True)\n",
    "\n",
    "Sub_pop = []\n",
    "for i in tqdm(range(10)):\n",
    "    Error= True\n",
    "    while Error!=False:\n",
    "        # cross\n",
    "        p1 = select()\n",
    "        p2 = select()\n",
    "        \n",
    "        p1,p2 = cross(p1,p2,2)\n",
    "        if fit(p2)[1] == False and fit(p1)[1] == False:\n",
    "            Error = False\n",
    "            print('1 complete')\n",
    "        \n",
    "    Error =True\n",
    "    while Error!= False:\n",
    "        p1 = mut(p1)\n",
    "        p2 = mut(p2)\n",
    "        # mark\n",
    "        if fit(p2)[1] == False and fit(p1)[1] == False:\n",
    "            Error = False\n",
    "            p1.append(fit(p1)[0])\n",
    "            p2.append(fit(p2)[0])\n",
    "    Sol_set1.append(p1)\n",
    "    Sol_set1.append(p2)"
   ]
  },
  {
   "cell_type": "code",
   "execution_count": 694,
   "metadata": {},
   "outputs": [
    {
     "name": "stderr",
     "output_type": "stream",
     "text": [
      "  0%|          | 0/10 [00:00<?, ?it/s]"
     ]
    },
    {
     "name": "stdout",
     "output_type": "stream",
     "text": [
      "AGG ErrorAGG Error"
     ]
    },
    {
     "name": "stderr",
     "output_type": "stream",
     "text": [
      " 10%|█         | 1/10 [00:22<03:23, 22.66s/it]"
     ]
    }
   ],
   "source": [
    "sorted_id = sorted(range(len(Sol_set)), key=lambda k: Sol_set[k][6], reverse=True)\n",
    "\n",
    "Sub_pop = []\n",
    "for i in tqdm(range(10)):\n",
    "    Error= True\n",
    "    while Error!=False:\n",
    "        # cross\n",
    "        p1 = select()\n",
    "        p2 = select()\n",
    "        \n",
    "        p1,p2 = cross(p1,p2,2)\n",
    "        #mut\n",
    "        p1 = mut(p1)\n",
    "        p2 = mut(p2)\n",
    "        # mark\n",
    "        if fit(p2)[1] == False and fit(p1)[1] == False:\n",
    "            Error = False\n",
    "            p1.append(fit(p1)[0])\n",
    "            p2.append(fit(p2)[0])\n",
    "    Sol_set1.append(p1)\n",
    "    Sol_set1.append(p2)\n",
    "        \n",
    "        \n",
    "        \n",
    "    "
   ]
  },
  {
   "cell_type": "code",
   "execution_count": null,
   "metadata": {},
   "outputs": [
    {
     "data": {
      "text/plain": [
       "(7,)"
      ]
     },
     "execution_count": 963,
     "metadata": {},
     "output_type": "execute_result"
    }
   ],
   "source": [
    "np.shape(Sol_set1[119])"
   ]
  },
  {
   "cell_type": "code",
   "execution_count": null,
   "metadata": {},
   "outputs": [
    {
     "ename": "IndexError",
     "evalue": "list index out of range",
     "output_type": "error",
     "traceback": [
      "\u001b[0;31m---------------------------------------------------------------------------\u001b[0m",
      "\u001b[0;31mIndexError\u001b[0m                                Traceback (most recent call last)",
      "\u001b[1;32m/Users/weiliang/Desktop/project/Project-without-E/GA.ipynb Cell 28\u001b[0m in \u001b[0;36m<cell line: 1>\u001b[0;34m()\u001b[0m\n\u001b[0;32m----> <a href='vscode-notebook-cell:/Users/weiliang/Desktop/project/Project-without-E/GA.ipynb#Y225sZmlsZQ%3D%3D?line=0'>1</a>\u001b[0m sorted_id \u001b[39m=\u001b[39m \u001b[39msorted\u001b[39;49m(\u001b[39mrange\u001b[39;49m(\u001b[39mlen\u001b[39;49m(Sol_set1)), key\u001b[39m=\u001b[39;49m\u001b[39mlambda\u001b[39;49;00m k: Sol_set[k][\u001b[39m6\u001b[39;49m], reverse\u001b[39m=\u001b[39;49m\u001b[39mTrue\u001b[39;49;00m)\n",
      "\u001b[1;32m/Users/weiliang/Desktop/project/Project-without-E/GA.ipynb Cell 28\u001b[0m in \u001b[0;36m<lambda>\u001b[0;34m(k)\u001b[0m\n\u001b[0;32m----> <a href='vscode-notebook-cell:/Users/weiliang/Desktop/project/Project-without-E/GA.ipynb#Y225sZmlsZQ%3D%3D?line=0'>1</a>\u001b[0m sorted_id \u001b[39m=\u001b[39m \u001b[39msorted\u001b[39m(\u001b[39mrange\u001b[39m(\u001b[39mlen\u001b[39m(Sol_set1)), key\u001b[39m=\u001b[39m\u001b[39mlambda\u001b[39;00m k: Sol_set[k][\u001b[39m6\u001b[39m], reverse\u001b[39m=\u001b[39m\u001b[39mTrue\u001b[39;00m)\n",
      "\u001b[0;31mIndexError\u001b[0m: list index out of range"
     ]
    }
   ],
   "source": [
    "sorted_id = sorted(range(len(Sol_set1)), key=lambda k: Sol_set[k][6], reverse=True)"
   ]
  },
  {
   "cell_type": "code",
   "execution_count": null,
   "metadata": {},
   "outputs": [],
   "source": [
    "# 按列表a中元素的值进行排序，并返回元素对应索引序列\n",
    "\n",
    "sorted_id = sorted(range(len(Sol_set)), key=lambda k: Sol_set[k][6], reverse=True)\n",
    "print('元素索引序列：', sorted_id)\n"
   ]
  },
  {
   "cell_type": "code",
   "execution_count": null,
   "metadata": {},
   "outputs": [],
   "source": [
    "x = list(np.arange(20))\n",
    "y = list(np.zeros(20))"
   ]
  },
  {
   "cell_type": "code",
   "execution_count": null,
   "metadata": {},
   "outputs": [],
   "source": [
    "select(x,y,4)"
   ]
  },
  {
   "cell_type": "code",
   "execution_count": null,
   "metadata": {},
   "outputs": [],
   "source": [
    "\n",
    "%lprun -T lprof0 -f select \n",
    "print(open('lprof0', 'r').read())"
   ]
  }
 ],
 "metadata": {
  "kernelspec": {
   "display_name": "Python 3.9.12 ('base')",
   "language": "python",
   "name": "python3"
  },
  "language_info": {
   "codemirror_mode": {
    "name": "ipython",
    "version": 3
   },
   "file_extension": ".py",
   "mimetype": "text/x-python",
   "name": "python",
   "nbconvert_exporter": "python",
   "pygments_lexer": "ipython3",
   "version": "3.9.12"
  },
  "orig_nbformat": 4,
  "vscode": {
   "interpreter": {
    "hash": "6a81d01cf25d5cb27baae2d6889786b15d49b10dbcd992301732598194e0dc30"
   }
  }
 },
 "nbformat": 4,
 "nbformat_minor": 2
}
