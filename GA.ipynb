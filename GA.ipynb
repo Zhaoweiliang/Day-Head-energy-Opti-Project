{
 "cells": [
  {
   "cell_type": "code",
   "execution_count": 1029,
   "metadata": {},
   "outputs": [],
   "source": [
    "import random\n",
    "from Hourbid import *\n",
    "from Fibid import *\n",
    "from blockbid import *\n",
    "import matplotlib.pyplot as plt    "
   ]
  },
  {
   "cell_type": "code",
   "execution_count": 1030,
   "metadata": {},
   "outputs": [],
   "source": [
    "BS_bids = Blockbid()[0]\n",
    "BD_bids = Blockbid()[1]\n",
    "HS_bids = HourBid()[0]\n",
    "HD_bids = HourBid()[1]\n",
    "FS_bids = Fibid()[0]\n",
    "FD_bids = Fibid()[1]"
   ]
  },
  {
   "cell_type": "code",
   "execution_count": 1031,
   "metadata": {},
   "outputs": [],
   "source": [
    "def Pairs(postion,Hour,DF,QP):\n",
    "    \n",
    "    if QP == 'DQ':\n",
    "        DF=DF.iloc[HIndex_D[Hour][0]:HIndex_D[Hour][1]+1]\n",
    "        return [DF['Quantity'][postion+HIndex_D[Hour][0]],DF['Quantity'][postion+1+HIndex_D[Hour][0]]]\n",
    "    if QP == 'SQ':\n",
    "        DF=DF.iloc[HIndex_S[Hour][0]:HIndex_S[Hour][1]+1]\n",
    "        return [DF['Quantity'][postion+HIndex_S[Hour][0]],DF['Quantity'][postion+1+HIndex_S[Hour][0]]]\n",
    "    if QP == 'DP':\n",
    "        DF=DF.iloc[HIndex_D[Hour][0]:HIndex_D[Hour][1]+1]\n",
    "        return [DF['price'][postion+HIndex_D[Hour][0]],DF['price'][postion+1+HIndex_D[Hour][0]]]\n",
    "    else:\n",
    "        DF=DF.iloc[HIndex_S[Hour][0]:HIndex_S[Hour][1]+1]\n",
    "        return [DF['price'][postion+HIndex_S[Hour][0]],DF['price'][postion+1+HIndex_S[Hour][0]]]\n",
    "    \n",
    "Delta_S = np.zeros([len(BS_bids),24])\n",
    "\n",
    "\n",
    "Delta_D = np.zeros([len(BD_bids),24])\n",
    "BD_bids  = Blockbid()[1]\n",
    "for i in range (len(BD_bids)):\n",
    "    if BD_bids['Hour'][i]+BD_bids['Duration'][i]<=25:\n",
    "        Delta_D[i,BD_bids['Hour'][i]-1:(BD_bids['Hour'][i]+BD_bids['Duration'][i])-1] = 1\n",
    "\n",
    "BS_bids = Blockbid()[0]\n",
    "for i in range (len(BS_bids)):\n",
    "    if BS_bids['Hour'][i]+BS_bids['Duration'][i]<=25:\n",
    "        Delta_S[i,BS_bids['Hour'][i]-1:(BS_bids['Hour'][i]+BS_bids['Duration'][i])-1] = 1"
   ]
  },
  {
   "cell_type": "code",
   "execution_count": 1032,
   "metadata": {},
   "outputs": [],
   "source": [
    "# Heuristic Algorithm for flexible bids\n",
    "temp1 = []\n",
    "for i in range(len(FS_bids)):\n",
    "    temp1.append(random.randint(0,23))\n",
    "    \n",
    "temp2 = []\n",
    "for i in range(len(FD_bids)):\n",
    "    temp2.append(random.randint(0,23))\n",
    "    \n",
    "def HA_FB():\n",
    "    for h in range(24):\n",
    "        res1=[[0 for i in range(len(FS_bids))] for i in range(24)]\n",
    "        res2=[[0 for i in range(len(FD_bids))] for i in range(24)]\n",
    "        x1=np.where(np.array(temp1)==h)[0]\n",
    "        x2=np.where(np.array(temp2)==h)[0]\n",
    "        for j in x1:\n",
    "            res1[h][j] = 1.0\n",
    "        for k in x2:\n",
    "            res2[h][k] = 1.0\n",
    "    return res1,res2"
   ]
  },
  {
   "cell_type": "code",
   "execution_count": 1033,
   "metadata": {},
   "outputs": [],
   "source": [
    "# Heuristic Algorithm for Block bids\n",
    "\n",
    "\n",
    "def HA_B():\n",
    "    NoneChild_D=[]\n",
    "    NoneChild_S=[]\n",
    "\n",
    "    for i in range(len(BD_bids)):\n",
    "        if BD_bids.isnull()['LinkID'][i] == True:\n",
    "            NoneChild_D.append(i)\n",
    "    for i in range(len(BS_bids)):\n",
    "        if BS_bids.isnull()['LinkID'][i] == True:\n",
    "            NoneChild_S.append(i)\n",
    "    BD=[ 0 for i in range(len(BD_bids))]\n",
    "    BS=[ 0 for i in range(len(BS_bids))]\n",
    "    for i in NoneChild_D:\n",
    "        BD[i] = random.randint(0,1)\n",
    "    for i in NoneChild_S:\n",
    "        BS[i] = random.randint(0,1)\n",
    "    return BS,BD"
   ]
  },
  {
   "cell_type": "code",
   "execution_count": 1034,
   "metadata": {},
   "outputs": [],
   "source": [
    "def find_f(a1,a2,b1,b2,x):\n",
    "    grad = (b2-b1)/(a2-a1)\n",
    "    b = b2-grad*a2\n",
    "    return grad*x+b\n",
    "\n",
    "def aggregate(h,BS,BD,FS,FD):\n",
    "    a = 0+h*1000\n",
    "    b = 1000+h*1000\n",
    "    agg_q=[]\n",
    "    agg_p = []\n",
    "    y1=list(reversed(HD_bids['Quantity'][a:b].tolist()))\n",
    "    y2=HS_bids['Quantity'][a:b].tolist()\n",
    "    x1 = list(reversed(HD_bids['price'][a:b].tolist()))\n",
    "    x2 = HS_bids['price'][a:b].tolist()\n",
    "    \n",
    "    # add Block\n",
    "    for i in range(len(BS)):\n",
    "        if BS[i] * Delta_S[i][h] >0:\n",
    "            for j in range(len(y2)):\n",
    "                y2[j]=y2[j]+BS_bids['Quantity'][i]\n",
    "    \n",
    "    for i in range(len(BD)):\n",
    "        if BD[i] * Delta_D[i][h] >0:\n",
    "            for j in range(len(y1)):\n",
    "                y1[j]=y1[j]+BD_bids['Quantity'][i]\n",
    "    # #  add Flex\n",
    "    for i in range(len(FS[h])):\n",
    "        if FS[h][i] == 1:\n",
    "            for j in range(len(y2)):\n",
    "                y2[j]=y2[j]+FS_bids['Quantity'][i]\n",
    "    for i in range(len(FD[h])):\n",
    "        if FD[h][i] ==1:\n",
    "            for j in range(len(y1)):\n",
    "                y1[j]=y1[j]+FD_bids['Quantity'][i]\n",
    "    \n",
    "    for i in range(1000):\n",
    "        if x1[i]==x2[i]:\n",
    "            agg_q.append(y1[i]-y2[i])\n",
    "            agg_p.append(x1[i])\n",
    "        elif x1[i]<x2[i]:\n",
    "            temp = find_f(x2[i-1],x2[i],y2[i-1],y2[i],x1[i])\n",
    "            agg_q.append(y1[i]-temp)\n",
    "            agg_p.append(x1[i])\n",
    "            temp = find_f(x1[i],x1[i+1],y1[i],y1[i+1],x2[i])\n",
    "            agg_q.append(temp-y2[i])\n",
    "            agg_p.append(x2[i])\n",
    "        elif x2[i]<x1[i]:\n",
    "            temp = find_f(x1[i-1],x1[i],y1[i-1],y1[i],x2[i])\n",
    "            agg_q.append(temp-y2[i])\n",
    "            agg_p.append(x2[i])\n",
    "            temp = find_f(x2[i],x2[i+1],y2[i],y2[i+1],x1[i])\n",
    "            agg_q.append(y1[i]-temp)\n",
    "            agg_p.append(x1[i])\n",
    "\n",
    "    for i in range(len(agg_q)-1):\n",
    "        if agg_q[i]*agg_q[i+1] <0:\n",
    "            grad = (agg_q[i+1]-agg_q[i])/(agg_p[i+1]-agg_p[i])\n",
    "            b= agg_q[i+1] - agg_p[i+1]*grad\n",
    "            Res = -b/grad\n",
    "            if h==0:\n",
    "                plt.plot(agg_q,agg_p)\n",
    "                plt.axvline(x=0)\n",
    "                plt.axhline(y=Res)\n",
    "            \n",
    "            return Res\n",
    "        "
   ]
  },
  {
   "cell_type": "markdown",
   "metadata": {},
   "source": [
    "$$\\left[[HS][HD][FS][FD][BS][BD] \\right]$$"
   ]
  },
  {
   "cell_type": "code",
   "execution_count": 1052,
   "metadata": {},
   "outputs": [],
   "source": [
    "def generate_population():\n",
    "    population = [[] for i in range(4)]\n",
    "    BS,BD = HA_B()\n",
    "    FS,FD = HA_FB()\n",
    "    \n",
    "    \n",
    "    population[2]=FS\n",
    "    population[3]=FD\n",
    "    \n",
    "    population.append(BS)\n",
    "    population.append(BD)\n",
    "    \n",
    "    HS = [np.zeros(999).tolist() for i in range(24)]\n",
    "    HD = [np.zeros(999).tolist() for i in range(24)]\n",
    "    \n",
    "    for h in range(24):\n",
    "        \n",
    "        price = aggregate(h,BS,BD,FS,FD)\n",
    "        BS_INT = np.where(HS_bids['price'][h*1000:1000+h*1000]>price)[0][0]\n",
    "        breakpoint_S = BS_INT + (price-HS_bids['price'][BS_INT-1+1000*h])/abs((HS_bids['price'][BS_INT+1000*h]-HS_bids['price'][BS_INT-1+1000*h]))-1\n",
    "        \n",
    "        BD_INT = np.where(HD_bids['price'][h*1000:1000+h*1000]>price)[0][-1]\n",
    "        breakpoint_D = BD_INT + 1-(price-HD_bids['price'][BD_INT+1+1000*h])/abs((HD_bids['price'][BD_INT+1000*h]-HD_bids['price'][BD_INT+1+1000*h]))\n",
    "        \n",
    "        HS[h][0:int(breakpoint_S)]=np.ones(int(breakpoint_S))\n",
    "        HS[h][int(breakpoint_S)]=breakpoint_S-int(breakpoint_S)\n",
    "        \n",
    "        HD[h][0:int(breakpoint_D)]=np.ones(int(breakpoint_D))\n",
    "        HD[h][int(breakpoint_D)]=breakpoint_D-int(breakpoint_D)\n",
    "        \n",
    "    population[0] = HS\n",
    "    population[1] = HD\n",
    "    \n",
    "    return population"
   ]
  },
  {
   "cell_type": "code",
   "execution_count": 1075,
   "metadata": {},
   "outputs": [],
   "source": [
    "def fit(population):\n",
    "    #objective value \n",
    "    Hour_S = population[0]\n",
    "    Hour_D = population[1]\n",
    "    Block_S = population[4]\n",
    "    Block_D = population[5]\n",
    "    Flex_S = population[2]\n",
    "    Flex_D = population[3]\n",
    "    \n",
    "    \n",
    "    Res_HD= sum(0.5*(2*Pairs(j,i,HD_bids,'DP')[0]+Hour_D[i][j]*(Pairs(j,i,HD_bids,'DP')[1]-Pairs(j,i,HD_bids,'DP')[0]))*Hour_D[i][j]*(Pairs(j,i,HD_bids,'DQ')[1]-Pairs(j,i,HD_bids,'DQ')[0]) for j in range(999) for i in range(24))                \n",
    "    Res_HS = sum(0.5*(2*Pairs(j,i,HS_bids,'SP')[0]+Hour_S[i][j]*(Pairs(j,i,HS_bids,'SP')[1]-Pairs(j,i,HS_bids,'SP')[0]))*Hour_S[i][j]*(Pairs(j,i,HS_bids,'SQ')[1]-Pairs(j,i,HS_bids,'SQ')[0]) for j in range(999) for i in range(24))   \n",
    "     \n",
    "    Res_BD = sum(BD_bids['Duration'][i]*BD_bids['Quantity'][i]*BD_bids['price'][i]*Block_D[i] for i in range(len(Block_D))) \n",
    "    Res_BS =  sum(BS_bids['Duration'][i]*BS_bids['Quantity'][i]*BS_bids['price'][i]*Block_S[i] for i in range(len(Block_S)))\n",
    "    \n",
    "    Res_FD = sum(FD_bids['Quantity'][i]*FD_bids['price'][i] *sum(Flex_D[h][i] for h in range(24)) for i in range(len(FD_bids))) \n",
    "    Res_FS = sum(FS_bids['Quantity'][i]*FS_bids['price'][i] *sum(Flex_S[h][i] for h in range(24)) for i in range(len(FS_bids)))\n",
    "    \n",
    "    BA = sum(Pair(1,h,HD_bids,'DQ')[0]-Pair(1,h,HD_bids,'DP')[0] for h in range(24))\n",
    "    OBJ_V = Res_HD - Res_HS + Res_BD - Res_BS + Res_FD - Res_FS + BA\n",
    "  \n",
    "    # penalty by constarint\n",
    "    Penalty = 0\n",
    "    \n",
    "    # penalty for constraint 1\n",
    "    CONS_1 = []\n",
    "    for h in range(24):\n",
    "        temp = -sum((Pairs(j,h,HD_bids,'DQ')[1]-Pairs(j,h,HD_bids,'DQ')[0]) * Hour_D[h][j] for j in range(len(Hour_D[h]))) \n",
    "        + sum((Pairs(j,h,HS_bids,'SQ')[1]-Pairs(j,h,HS_bids,'SQ')[0]) * Hour_S[h][j] for j in range(len(Hour_S[h])))\n",
    "        +sum(Delta_S[i,h-1]*BS_bids['Quantity'][i]*Block_S[i] for i in range(len(BS_bids)))  \n",
    "        -sum(Delta_D[i,h-1]*BD_bids['Quantity'][i]*Block_D[i] for i in range(len(BD_bids)))\n",
    "        +sum(FS_bids['Quantity'][i]*Flex_S[h][i] for i in range(len(FS_bids)))\n",
    "        -sum(FD_bids['Quantity'][i]*Flex_D[h][i]for i in range(len(FD_bids)))\n",
    "        -Pair(1,h,HD_bids,'DQ')[0] +Pair(1,h,HS_bids,'SQ')[0] \n",
    "        CONS_1.append(temp)\n",
    "    print(CONS_1)\n",
    "    if sum(CONS_1) !=0:\n",
    "        \n",
    "        Penalty=Penalty+1\n",
    "        \n",
    "    \n",
    "    # penalty for constraint 3-5 \n",
    "    for i in range(24):\n",
    "        \n",
    "        Brak_P = np.argwhere((np.array(Hour_D[i]) >0) & (np.array(Hour_D[i]) <1))[0][0]\n",
    "        temp1 = Hour_D[i][0:Brak_P]\n",
    "        temp2 = Hour_D[i][Brak_P+1:-1]\n",
    "        if len(set(temp1))!= 1 or len(set(temp2)) != 1:\n",
    "            Error=True\n",
    "            break\n",
    "        else:\n",
    "            print('3-5 pass')\n",
    "            Error=False\n",
    "    if Error==True:\n",
    "        Penalty=Penalty+1\n",
    "        \n",
    "     # penalty for constraint 6-7    \n",
    "    for h in range(24):\n",
    "        x = sum((Pairs(j,h,HS_bids,'SP')[1]-Pairs(j,h,HS_bids,'SP')[0]) * Hour_S[h][j] for j in range(len(Hour_S[h])))\n",
    "        y = 2000+sum((Pairs(j,h,HD_bids,'DP')[1]-Pairs(j,h,HD_bids,'DP')[0]) * Hour_D[h][j] for j in range(len(Hour_D[h])))\n",
    "        if round(x,5) == round(y,5):\n",
    "            print('ye')\n",
    "            Error=True\n",
    "            break\n",
    "        else:\n",
    "            Error=False\n",
    "    if Error==True:\n",
    "        Penalty=Penalty+1\n",
    "    return OBJ_V"
   ]
  },
  {
   "cell_type": "code",
   "execution_count": 1078,
   "metadata": {},
   "outputs": [
    {
     "name": "stdout",
     "output_type": "stream",
     "text": [
      "[-31975.729931085865, -1274.2337349397603, -3755.924528301884, -26193.665518725793, -10455.594746716697, -7099.767233661592, -1505.8882888443154, -13168.417475728158, -17445.205068528587, -14207.154609929092, -16795.410476935103, -16216.59160633827, -17990.425787774206, -22903.0453298342, -6826.5953603683365, -16773.620952380952, -6395.287832218412, -20638.116304952702, -3632.7731564174555, -3342.186356073211, -5556.244444444441, -31003.3152648768, -26708.567982299617, -5408.14717989456]\n",
      "3-5 pass\n",
      "3-5 pass\n",
      "3-5 pass\n",
      "3-5 pass\n",
      "3-5 pass\n",
      "3-5 pass\n",
      "3-5 pass\n",
      "3-5 pass\n",
      "3-5 pass\n",
      "3-5 pass\n",
      "3-5 pass\n",
      "3-5 pass\n",
      "ye\n"
     ]
    },
    {
     "data": {
      "text/plain": [
       "199455774.3784821"
      ]
     },
     "execution_count": 1078,
     "metadata": {},
     "output_type": "execute_result"
    },
    {
     "data": {
      "image/png": "[encoded data removed]",
      "text/plain": [
       "<Figure size 432x288 with 1 Axes>"
      ]
     },
     "metadata": {
      "needs_background": "light"
     },
     "output_type": "display_data"
    }
   ],
   "source": [
    "fit(generate_population())"
   ]
  },
  {
   "cell_type": "code",
   "execution_count": 1076,
   "metadata": {},
   "outputs": [
    {
     "data": {
      "image/png": "[encoded data removed]",
      "text/plain": [
       "<Figure size 432x288 with 1 Axes>"
      ]
     },
     "metadata": {
      "needs_background": "light"
     },
     "output_type": "display_data"
    }
   ],
   "source": [
    "population = generate_population()\n",
    "Hour_S = population[0]\n",
    "Hour_D = population[1]\n",
    "Block_S = population[4]\n",
    "Block_D = population[5]\n",
    "Flex_S = population[2]\n",
    "Flex_D = population[3]\n"
   ]
  },
  {
   "cell_type": "code",
   "execution_count": 1073,
   "metadata": {},
   "outputs": [
    {
     "data": {
      "text/plain": [
       "145.9337219730941"
      ]
     },
     "execution_count": 1073,
     "metadata": {},
     "output_type": "execute_result"
    }
   ],
   "source": [
    "sum((Pairs(j,h,HS_bids,'SP')[1]-Pairs(j,h,HS_bids,'SP')[0]) * Hour_S[h][j] for j in range(len(Hour_S[h])))"
   ]
  },
  {
   "cell_type": "code",
   "execution_count": 1074,
   "metadata": {},
   "outputs": [
    {
     "data": {
      "text/plain": [
       "145.933721973096"
      ]
     },
     "execution_count": 1074,
     "metadata": {},
     "output_type": "execute_result"
    }
   ],
   "source": [
    "2000+sum((Pairs(j,h,HD_bids,'DP')[1]-Pairs(j,h,HD_bids,'DP')[0]) * Hour_D[h][j] for j in range(len(Hour_D[h])))\n"
   ]
  }
 ],
 "metadata": {
  "kernelspec": {
   "display_name": "Python 3.9.12 ('base')",
   "language": "python",
   "name": "python3"
  },
  "language_info": {
   "codemirror_mode": {
    "name": "ipython",
    "version": 3
   },
   "file_extension": ".py",
   "mimetype": "text/x-python",
   "name": "python",
   "nbconvert_exporter": "python",
   "pygments_lexer": "ipython3",
   "version": "3.9.12"
  },
  "orig_nbformat": 4,
  "vscode": {
   "interpreter": {
    "hash": "6a81d01cf25d5cb27baae2d6889786b15d49b10dbcd992301732598194e0dc30"
   }
  }
 },
 "nbformat": 4,
 "nbformat_minor": 2
}
