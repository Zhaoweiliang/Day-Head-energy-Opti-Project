{
 "cells": [
  {
   "cell_type": "code",
   "execution_count": 13,
   "metadata": {},
   "outputs": [],
   "source": [
    "import random\n",
    "from Hourbid import *\n",
    "from Fibid import *\n",
    "from blockbid import *\n",
    "import matplotlib.pyplot as plt    \n",
    "from tqdm import tqdm"
   ]
  },
  {
   "cell_type": "code",
   "execution_count": 14,
   "metadata": {},
   "outputs": [
    {
     "name": "stdout",
     "output_type": "stream",
     "text": [
      "The line_profiler extension is already loaded. To reload it, use:\n",
      "  %reload_ext line_profiler\n"
     ]
    }
   ],
   "source": [
    "from line_profiler import LineProfiler\n",
    "from functools import wraps\n",
    " \n",
    "%load_ext line_profiler"
   ]
  },
  {
   "cell_type": "code",
   "execution_count": 15,
   "metadata": {},
   "outputs": [],
   "source": [
    "BS_bids = Blockbid()[0]\n",
    "BD_bids = Blockbid()[1]\n",
    "HS_bids = HourBid()[0]\n",
    "HD_bids = HourBid()[1]\n",
    "FS_bids = Fibid()[0]\n",
    "FD_bids = Fibid()[1]"
   ]
  },
  {
   "cell_type": "code",
   "execution_count": 16,
   "metadata": {},
   "outputs": [
    {
     "data": {
      "text/plain": [
       "<matplotlib.lines.Line2D at 0x1e867585fc8>"
      ]
     },
     "execution_count": 16,
     "metadata": {},
     "output_type": "execute_result"
    },
    {
     "data": {
      "image/png": "[encoded data removed]",
      "text/plain": [
       "<Figure size 432x288 with 1 Axes>"
      ]
     },
     "metadata": {
      "needs_background": "light"
     },
     "output_type": "display_data"
    }
   ],
   "source": [
    "x = HS_bids['price'][0:1000]\n",
    "y= HS_bids['Quantity'][0:1000]\n",
    "x2 = HD_bids['price'][0:1000]\n",
    "y2= HD_bids['Quantity'][0:1000]\n",
    "plt.plot(x,y)\n",
    "plt.plot(x2,y2)\n",
    "plt.axvline(147)"
   ]
  },
  {
   "cell_type": "code",
   "execution_count": 17,
   "metadata": {},
   "outputs": [
    {
     "data": {
      "text/html": [
       "<div>\n",
       "<style scoped>\n",
       "    .dataframe tbody tr th:only-of-type {\n",
       "        vertical-align: middle;\n",
       "    }\n",
       "\n",
       "    .dataframe tbody tr th {\n",
       "        vertical-align: top;\n",
       "    }\n",
       "\n",
       "    .dataframe thead th {\n",
       "        text-align: right;\n",
       "    }\n",
       "</style>\n",
       "<table border=\"1\" class=\"dataframe\">\n",
       "  <thead>\n",
       "    <tr style=\"text-align: right;\">\n",
       "      <th></th>\n",
       "      <th>ID</th>\n",
       "      <th>OrderID</th>\n",
       "      <th>Hour</th>\n",
       "      <th>BitType</th>\n",
       "      <th>Quantity</th>\n",
       "      <th>price</th>\n",
       "      <th>Duration</th>\n",
       "      <th>LinkID</th>\n",
       "    </tr>\n",
       "  </thead>\n",
       "  <tbody>\n",
       "    <tr>\n",
       "      <td>0</td>\n",
       "      <td>12</td>\n",
       "      <td>1000</td>\n",
       "      <td>1</td>\n",
       "      <td>S</td>\n",
       "      <td>156716.0</td>\n",
       "      <td>2000.00</td>\n",
       "      <td>1</td>\n",
       "      <td>NaN</td>\n",
       "    </tr>\n",
       "    <tr>\n",
       "      <td>1</td>\n",
       "      <td>12</td>\n",
       "      <td>999</td>\n",
       "      <td>1</td>\n",
       "      <td>S</td>\n",
       "      <td>156751.0</td>\n",
       "      <td>1996.76</td>\n",
       "      <td>1</td>\n",
       "      <td>NaN</td>\n",
       "    </tr>\n",
       "    <tr>\n",
       "      <td>2</td>\n",
       "      <td>12</td>\n",
       "      <td>998</td>\n",
       "      <td>1</td>\n",
       "      <td>S</td>\n",
       "      <td>156767.0</td>\n",
       "      <td>1995.25</td>\n",
       "      <td>1</td>\n",
       "      <td>NaN</td>\n",
       "    </tr>\n",
       "    <tr>\n",
       "      <td>3</td>\n",
       "      <td>12</td>\n",
       "      <td>997</td>\n",
       "      <td>1</td>\n",
       "      <td>S</td>\n",
       "      <td>156794.0</td>\n",
       "      <td>1992.78</td>\n",
       "      <td>1</td>\n",
       "      <td>NaN</td>\n",
       "    </tr>\n",
       "    <tr>\n",
       "      <td>4</td>\n",
       "      <td>12</td>\n",
       "      <td>996</td>\n",
       "      <td>1</td>\n",
       "      <td>S</td>\n",
       "      <td>156822.0</td>\n",
       "      <td>1990.18</td>\n",
       "      <td>1</td>\n",
       "      <td>NaN</td>\n",
       "    </tr>\n",
       "    <tr>\n",
       "      <td>...</td>\n",
       "      <td>...</td>\n",
       "      <td>...</td>\n",
       "      <td>...</td>\n",
       "      <td>...</td>\n",
       "      <td>...</td>\n",
       "      <td>...</td>\n",
       "      <td>...</td>\n",
       "      <td>...</td>\n",
       "    </tr>\n",
       "    <tr>\n",
       "      <td>23995</td>\n",
       "      <td>242</td>\n",
       "      <td>5</td>\n",
       "      <td>24</td>\n",
       "      <td>S</td>\n",
       "      <td>199186.0</td>\n",
       "      <td>6.50</td>\n",
       "      <td>1</td>\n",
       "      <td>NaN</td>\n",
       "    </tr>\n",
       "    <tr>\n",
       "      <td>23996</td>\n",
       "      <td>242</td>\n",
       "      <td>4</td>\n",
       "      <td>24</td>\n",
       "      <td>S</td>\n",
       "      <td>199270.0</td>\n",
       "      <td>5.22</td>\n",
       "      <td>1</td>\n",
       "      <td>NaN</td>\n",
       "    </tr>\n",
       "    <tr>\n",
       "      <td>23997</td>\n",
       "      <td>242</td>\n",
       "      <td>3</td>\n",
       "      <td>24</td>\n",
       "      <td>S</td>\n",
       "      <td>199466.0</td>\n",
       "      <td>2.79</td>\n",
       "      <td>1</td>\n",
       "      <td>NaN</td>\n",
       "    </tr>\n",
       "    <tr>\n",
       "      <td>23998</td>\n",
       "      <td>242</td>\n",
       "      <td>2</td>\n",
       "      <td>24</td>\n",
       "      <td>S</td>\n",
       "      <td>199637.0</td>\n",
       "      <td>1.29</td>\n",
       "      <td>1</td>\n",
       "      <td>NaN</td>\n",
       "    </tr>\n",
       "    <tr>\n",
       "      <td>23999</td>\n",
       "      <td>242</td>\n",
       "      <td>1</td>\n",
       "      <td>24</td>\n",
       "      <td>S</td>\n",
       "      <td>200000.0</td>\n",
       "      <td>0.00</td>\n",
       "      <td>1</td>\n",
       "      <td>NaN</td>\n",
       "    </tr>\n",
       "  </tbody>\n",
       "</table>\n",
       "<p>24000 rows × 8 columns</p>\n",
       "</div>"
      ],
      "text/plain": [
       "        ID  OrderID  Hour BitType  Quantity    price  Duration  LinkID\n",
       "0       12     1000     1       S  156716.0  2000.00         1     NaN\n",
       "1       12      999     1       S  156751.0  1996.76         1     NaN\n",
       "2       12      998     1       S  156767.0  1995.25         1     NaN\n",
       "3       12      997     1       S  156794.0  1992.78         1     NaN\n",
       "4       12      996     1       S  156822.0  1990.18         1     NaN\n",
       "...    ...      ...   ...     ...       ...      ...       ...     ...\n",
       "23995  242        5    24       S  199186.0     6.50         1     NaN\n",
       "23996  242        4    24       S  199270.0     5.22         1     NaN\n",
       "23997  242        3    24       S  199466.0     2.79         1     NaN\n",
       "23998  242        2    24       S  199637.0     1.29         1     NaN\n",
       "23999  242        1    24       S  200000.0     0.00         1     NaN\n",
       "\n",
       "[24000 rows x 8 columns]"
      ]
     },
     "execution_count": 17,
     "metadata": {},
     "output_type": "execute_result"
    }
   ],
   "source": [
    "HD_bids"
   ]
  },
  {
   "cell_type": "code",
   "execution_count": 18,
   "metadata": {},
   "outputs": [
    {
     "data": {
      "text/plain": [
       "-7861.0"
      ]
     },
     "execution_count": 18,
     "metadata": {},
     "output_type": "execute_result"
    }
   ],
   "source": [
    "HS_bids['Quantity'][0]-HD_bids['Quantity'][1000]"
   ]
  },
  {
   "cell_type": "code",
   "execution_count": 19,
   "metadata": {},
   "outputs": [],
   "source": [
    "def Pairs(postion,Hour,DF,QP):\n",
    "    \n",
    "    if QP == 'DQ':\n",
    "        DF=DF.iloc[HIndex_D[Hour][0]:HIndex_D[Hour][1]+1]\n",
    "        return [DF['Quantity'][postion+HIndex_D[Hour][0]],DF['Quantity'][postion+1+HIndex_D[Hour][0]]]\n",
    "    if QP == 'SQ':\n",
    "        DF=DF.iloc[HIndex_S[Hour][0]:HIndex_S[Hour][1]+1]\n",
    "        return [DF['Quantity'][postion+HIndex_S[Hour][0]],DF['Quantity'][postion+1+HIndex_S[Hour][0]]]\n",
    "    if QP == 'DP':\n",
    "        DF=DF.iloc[HIndex_D[Hour][0]:HIndex_D[Hour][1]+1]\n",
    "        return [DF['price'][postion+HIndex_D[Hour][0]],DF['price'][postion+1+HIndex_D[Hour][0]]]\n",
    "    else:\n",
    "        DF=DF.iloc[HIndex_S[Hour][0]:HIndex_S[Hour][1]+1]\n",
    "        return [DF['price'][postion+HIndex_S[Hour][0]],DF['price'][postion+1+HIndex_S[Hour][0]]]\n",
    "    \n",
    "Delta_S = np.zeros([len(BS_bids),24])\n",
    "\n",
    "\n",
    "Delta_D = np.zeros([len(BD_bids),24])\n",
    "BD_bids  = Blockbid()[1]\n",
    "for i in range (len(BD_bids)):\n",
    "    if BD_bids['Hour'][i]+BD_bids['Duration'][i]<=25:\n",
    "        Delta_D[i,BD_bids['Hour'][i]-1:(BD_bids['Hour'][i]+BD_bids['Duration'][i])-1] = 1\n",
    "\n",
    "BS_bids = Blockbid()[0]\n",
    "for i in range (len(BS_bids)):\n",
    "    if BS_bids['Hour'][i]+BS_bids['Duration'][i]<=25:\n",
    "        Delta_S[i,BS_bids['Hour'][i]-1:(BS_bids['Hour'][i]+BS_bids['Duration'][i])-1] = 1"
   ]
  },
  {
   "cell_type": "code",
   "execution_count": 20,
   "metadata": {},
   "outputs": [],
   "source": [
    "# Heuristic Algorithm for flexible bids\n",
    "temp1 = []\n",
    "for i in range(len(FS_bids)):\n",
    "    temp1.append(random.randint(0,23))\n",
    "    \n",
    "temp2 = []\n",
    "for i in range(len(FD_bids)):\n",
    "    temp2.append(random.randint(0,23))\n",
    "    \n",
    "def HA_FB():\n",
    "    for h in range(24):\n",
    "        res1=[[0 for i in range(len(FS_bids))] for i in range(24)]\n",
    "        res2=[[0 for i in range(len(FD_bids))] for i in range(24)]\n",
    "        x1=np.where(np.array(temp1)==h)[0]\n",
    "        x2=np.where(np.array(temp2)==h)[0]\n",
    "        for j in x1:\n",
    "            res1[h][j] = 1.0\n",
    "        for k in x2:\n",
    "            res2[h][k] = 1.0\n",
    "    return res1,res2"
   ]
  },
  {
   "cell_type": "code",
   "execution_count": 21,
   "metadata": {},
   "outputs": [],
   "source": [
    "NoneChild_D=[]\n",
    "Child_D = []\n",
    "Parent_D=[]\n",
    "NoneChild_S=[]\n",
    "Child_S=[]\n",
    "Parent_S=[]\n",
    "for i in range(len(BD_bids)):\n",
    "    if BD_bids.isnull()['LinkID'][i] == True:\n",
    "        NoneChild_D.append(i)\n",
    "    else:\n",
    "        Parent_D.append(np.where(BD_bids['ID']==BD_bids['LinkID'][i])[0][0])\n",
    "        Child_D.append(i)\n",
    "for i in range(len(BS_bids)):\n",
    "    if BS_bids.isnull()['LinkID'][i] == True:\n",
    "        NoneChild_S.append(i)\n",
    "    else:\n",
    "        Parent_S.append(np.where(BS_bids['ID']==BS_bids['LinkID'][i])[0][0])\n",
    "        Child_S.append(i)"
   ]
  },
  {
   "cell_type": "code",
   "execution_count": null,
   "metadata": {},
   "outputs": [],
   "source": []
  },
  {
   "cell_type": "code",
   "execution_count": 22,
   "metadata": {},
   "outputs": [],
   "source": [
    "# Heuristic Algorithm for Block bids\n",
    "\n",
    "\n",
    "def HA_B():\n",
    "\n",
    "    BD=[ 0 for i in range(len(BD_bids))]\n",
    "    BS=[ 0 for i in range(len(BS_bids))]\n",
    "    for i in NoneChild_D:\n",
    "        BD[i] = random.randint(0,1)\n",
    "    for i in NoneChild_S:\n",
    "        BS[i] = random.randint(0,1)\n",
    "    return BS,BD"
   ]
  },
  {
   "cell_type": "code",
   "execution_count": 23,
   "metadata": {},
   "outputs": [],
   "source": [
    "def find_f(a1,a2,b1,b2,x):\n",
    "    grad = (b2-b1)/(a2-a1)\n",
    "    b = b2-grad*a2\n",
    "    return grad*x+b\n",
    "\n",
    "def aggregate(h,BS,BD,FS,FD):\n",
    "    \n",
    "    a = 0+h*1000\n",
    "    b = 1000+h*1000\n",
    "    agg_q=[]\n",
    "    agg_p = []\n",
    "    y1=list(reversed(HD_bids['Quantity'][a:b].tolist()))\n",
    "    y2=HS_bids['Quantity'][a:b].tolist()\n",
    "    x1 = list(reversed(HD_bids['price'][a:b].tolist()))\n",
    "    x2 = HS_bids['price'][a:b].tolist()\n",
    "    \n",
    "    # add Block\n",
    "    for i in range(len(BS)):\n",
    "        if BS[i] * Delta_S[i][h] >0:\n",
    "            k = BS_bids['Quantity'][i]\n",
    "            y2 = list(map(lambda x:x+k,y2))\n",
    "            # for j in range(len(y2)):\n",
    "            #     y2[j]=y2[j]+BS_bids['Quantity'][i]\n",
    "    \n",
    "    for i in range(len(BD)):\n",
    "        if BD[i] * Delta_D[i][h] >0:\n",
    "            k= BD_bids['Quantity'][i]\n",
    "            y1 = list(map(lambda x:x+k,y1))\n",
    "            # for j in range(len(y1)):\n",
    "            #     y1[j]=y1[j]+BD_bids['Quantity'][i]\n",
    "    # #  add Flex\n",
    "    for i in range(len(FS[h])):\n",
    "        if FS[h][i] == 1:\n",
    "            k = FS_bids['Quantity'][i]\n",
    "            y2 = list(map(lambda x:x+k,y2))\n",
    "    for i in range(len(FD[h])):\n",
    "        if FD[h][i] ==1:\n",
    "            k = FD_bids['Quantity'][i]\n",
    "            y1 = list(map(lambda x:x+k,y1))\n",
    "\n",
    "    \n",
    "    for i in range(1000):\n",
    "        if x1[i]==x2[i]:\n",
    "            agg_q.append(y1[i]-y2[i])\n",
    "            agg_p.append(x1[i])\n",
    "        elif x1[i]<x2[i]:\n",
    "            temp = find_f(x2[i-1],x2[i],y2[i-1],y2[i],x1[i])\n",
    "            agg_q.append(y1[i]-temp)\n",
    "            agg_p.append(x1[i])\n",
    "            temp = find_f(x1[i],x1[i+1],y1[i],y1[i+1],x2[i])\n",
    "            agg_q.append(temp-y2[i])\n",
    "            agg_p.append(x2[i])\n",
    "        elif x2[i]<x1[i]:\n",
    "            temp = find_f(x1[i-1],x1[i],y1[i-1],y1[i],x2[i])\n",
    "            agg_q.append(temp-y2[i])\n",
    "            agg_p.append(x2[i])\n",
    "            temp = find_f(x2[i],x2[i+1],y2[i],y2[i+1],x1[i])\n",
    "            agg_q.append(y1[i]-temp)\n",
    "            agg_p.append(x1[i])\n",
    "    # while agg_q[0]*agg_q[-1]>=0:\n",
    "    #     raise Exception(\"no root\")\n",
    "    for i in range(len(agg_q)-1):\n",
    "        if agg_q[i]*agg_q[i+1] <0:\n",
    "            grad = (agg_q[i+1]-agg_q[i])/(agg_p[i+1]-agg_p[i])\n",
    "            b= agg_q[i+1] - agg_p[i+1]*grad\n",
    "            Res = -b/grad          \n",
    "            return Res\n",
    "        "
   ]
  },
  {
   "cell_type": "markdown",
   "metadata": {},
   "source": [
    "$$\\left[[HS][HD][FS][FD][BS][BD] \\right]$$"
   ]
  },
  {
   "cell_type": "code",
   "execution_count": 24,
   "metadata": {},
   "outputs": [],
   "source": [
    "\n",
    "def generate_population():\n",
    "    restart = True\n",
    "    while restart:\n",
    "        restart = False\n",
    "        population = [[] for i in range(4)]\n",
    "        BS,BD = HA_B()\n",
    "        FS,FD = HA_FB()\n",
    "        \n",
    "        \n",
    "        population[2]=FS\n",
    "        population[3]=FD\n",
    "        \n",
    "        population.append(BS)\n",
    "        population.append(BD)\n",
    "        \n",
    "        HS = [np.zeros(999).tolist() for i in range(24)]\n",
    "        HD = [np.zeros(999).tolist() for i in range(24)]\n",
    "        \n",
    "        for h in range(24):\n",
    "            price = aggregate(h,BS,BD,FS,FD)\n",
    "            if price == None:\n",
    "                # print('regenerate')\n",
    "                restart = True\n",
    "                break\n",
    "            BS_INT = np.where(HS_bids['price'][h*1000:1000+h*1000]>price)[0][0]\n",
    "            breakpoint_S = BS_INT + (price-HS_bids['price'][BS_INT-1+1000*h])/abs((HS_bids['price'][BS_INT+1000*h]-HS_bids['price'][BS_INT-1+1000*h]))-1\n",
    "            \n",
    "            BD_INT = np.where(HD_bids['price'][h*1000:1000+h*1000]>price)[0][-1]\n",
    "            breakpoint_D = BD_INT + 1-(price-HD_bids['price'][BD_INT+1+1000*h])/abs((HD_bids['price'][BD_INT+1000*h]-HD_bids['price'][BD_INT+1+1000*h]))\n",
    "            \n",
    "            HS[h][0:int(breakpoint_S)]=np.ones(int(breakpoint_S))\n",
    "            HS[h][int(breakpoint_S)]=breakpoint_S-int(breakpoint_S)\n",
    "            \n",
    "            HD[h][0:int(breakpoint_D)]=np.ones(int(breakpoint_D))\n",
    "            HD[h][int(breakpoint_D)]=breakpoint_D-int(breakpoint_D)\n",
    "            \n",
    "        population[0] = HS\n",
    "        population[1] = HD\n",
    "        \n",
    "    return population"
   ]
  },
  {
   "cell_type": "code",
   "execution_count": 25,
   "metadata": {},
   "outputs": [],
   "source": [
    "def fit(population):\n",
    "    Error = False\n",
    "    #objective value \n",
    "    gamma = 100000\n",
    "    Hour_S = population[0]\n",
    "    Hour_D = population[1]\n",
    "    Block_S = population[4]\n",
    "    Block_D = population[5]\n",
    "    Flex_S = population[2]\n",
    "    Flex_D = population[3]\n",
    "    \n",
    "    \n",
    "    Res_HD = sum(0.5*(2*HD_bids['price'][1000*i+j]+Hour_D[i][j]*(HD_bids['price'][1000*i+j+1]-HD_bids['price'][1000*i+j]))*Hour_D[i][j]*(HD_bids['Quantity'][1000*i+j+1]-HD_bids['Quantity'][1000*i+j]) for j in range(999) for i in range(24))                \n",
    "    Res_HS = sum(0.5*(2*HS_bids['price'][1000*i+j]+Hour_S[i][j]*(HS_bids['price'][1000*i+j+1]-HS_bids['price'][1000*i+j]))*Hour_S[i][j]*(HS_bids['Quantity'][1000*i+j+1]-HS_bids['Quantity'][1000*i+j]) for j in range(999) for i in range(24))  \n",
    "     \n",
    "    Res_BD = sum(BD_bids['Duration'][i]*BD_bids['Quantity'][i]*BD_bids['price'][i]*Block_D[i] for i in range(len(Block_D))) \n",
    "    Res_BS =  sum(BS_bids['Duration'][i]*BS_bids['Quantity'][i]*BS_bids['price'][i]*Block_S[i] for i in range(len(Block_S)))\n",
    "    \n",
    "    Res_FD = sum(FD_bids['Quantity'][i]*FD_bids['price'][i] *sum(Flex_D[h][i] for h in range(24)) for i in range(len(FD_bids))) \n",
    "    Res_FS = sum(FS_bids['Quantity'][i]*FS_bids['price'][i] *sum(Flex_S[h][i] for h in range(24)) for i in range(len(FS_bids)))\n",
    "    \n",
    "    BA = sum(Pair(1,h,HD_bids,'DQ')[0]-Pair(1,h,HD_bids,'DP')[0] for h in range(24))\n",
    "    OBJ_V = Res_HD - Res_HS + Res_BD - Res_BS + Res_FD - Res_FS + BA\n",
    "    \n",
    "    for i in Child_D:\n",
    "        if Block_D[i]== 1:\n",
    "            if Parent_D[i]!=1:\n",
    "                print(' Parent check fail')\n",
    "                Error = True\n",
    "    for i in Child_S:\n",
    "        if Block_S[i]== 1:\n",
    "            if Parent_S[i]!=1:\n",
    "                print('Parent check fail')\n",
    "                Error = True\n",
    "                break\n",
    "    \n",
    "  \n",
    "    # penalty by constarint\n",
    "    Penalty = 0\n",
    "    #  # penalty for constraint 6-7    \n",
    "    for h in range(24):\n",
    "        x = sum((HS_bids['price'][1000*h+j+1]-HS_bids['price'][1000*h+j]) * Hour_S[h][j] for j in range(len(Hour_S[h])-1))\n",
    "        y = 2000+sum((HD_bids['price'][1000*h+j+1]-HD_bids['price'][1000*h+j]) * Hour_D[h][j] for j in range(len(Hour_D[h])-1))\n",
    "        for i in range(len(FS_bids)):\n",
    "            if x - FS_bids['price'][i] > gamma * Flex_S[h][i]:\n",
    "                Error = True\n",
    "                break\n",
    "        for i in range(len(FD_bids)):\n",
    "            if FD_bids['price'][i]-x < gamma * Flex_D[h][i]:\n",
    "                Error = True\n",
    "                break        \n",
    "        if round(x,5) == round(y,5):\n",
    "            Error=False\n",
    "        else:\n",
    "            Error=True\n",
    "    return OBJ_V,Error"
   ]
  },
  {
   "cell_type": "code",
   "execution_count": 26,
   "metadata": {},
   "outputs": [
    {
     "name": "stdout",
     "output_type": "stream",
     "text": [
      "170.0092488554796\n",
      "1499.1494091874665\n",
      "1035.3762317728313\n",
      "379.5336173136381\n",
      "716.0122389558235\n",
      "653.8793352192363\n",
      "1437.3209679334916\n",
      "624.9396689895467\n",
      "490.80839270047375\n",
      "352.40861150070106\n",
      "397.2512637472512\n",
      "579.3402860752642\n",
      "10.738681732580105\n",
      "470.4775647668392\n",
      "705.5897347831855\n",
      "514.7861253263704\n",
      "895.98850035791\n",
      "503.2303816793895\n",
      "952.248679835713\n",
      "760.9985253780334\n",
      "750.2754928303253\n",
      "16.09618375536178\n",
      "141.67999999999984\n",
      "567.1310306406683\n"
     ]
    }
   ],
   "source": [
    "BS,BD = HA_B()\n",
    "FS,FD = HA_FB()\n",
    "for i in range(24):\n",
    "    print(aggregate(i,BS,BD,FS,FD))"
   ]
  },
  {
   "cell_type": "code",
   "execution_count": 27,
   "metadata": {},
   "outputs": [
    {
     "name": "stderr",
     "output_type": "stream",
     "text": [
      "100%|█| 100/100 [00:30<00:00,  3.29it/s]\n"
     ]
    }
   ],
   "source": [
    "Sol_set= []\n",
    "for i in tqdm(range(100),ncols=5):\n",
    "    Sol_set.append(generate_population())"
   ]
  },
  {
   "cell_type": "code",
   "execution_count": 28,
   "metadata": {},
   "outputs": [
    {
     "name": "stderr",
     "output_type": "stream",
     "text": [
      "  6%| | 6/100 [00:16<04:29,  2.87s/it]"
     ]
    },
    {
     "ename": "KeyboardInterrupt",
     "evalue": "",
     "output_type": "error",
     "traceback": [
      "\u001b[1;31m---------------------------------------------------------------------------\u001b[0m",
      "\u001b[1;31mKeyboardInterrupt\u001b[0m                         Traceback (most recent call last)",
      "\u001b[1;32m<ipython-input-28-cc27ee5b981e>\u001b[0m in \u001b[0;36m<module>\u001b[1;34m\u001b[0m\n\u001b[0;32m      1\u001b[0m \u001b[0mvalue\u001b[0m \u001b[1;33m=\u001b[0m\u001b[1;33m[\u001b[0m\u001b[1;36m0\u001b[0m\u001b[1;33m,\u001b[0m\u001b[1;36m0\u001b[0m\u001b[1;33m]\u001b[0m\u001b[1;33m\u001b[0m\u001b[1;33m\u001b[0m\u001b[0m\n\u001b[1;32m----> 2\u001b[1;33m \u001b[1;32mfor\u001b[0m \u001b[0mi\u001b[0m \u001b[1;32min\u001b[0m \u001b[0mtqdm\u001b[0m\u001b[1;33m(\u001b[0m\u001b[0mrange\u001b[0m\u001b[1;33m(\u001b[0m\u001b[1;36m100\u001b[0m\u001b[1;33m)\u001b[0m\u001b[1;33m,\u001b[0m\u001b[0mncols\u001b[0m\u001b[1;33m=\u001b[0m\u001b[1;36m10\u001b[0m\u001b[1;33m)\u001b[0m\u001b[1;33m:\u001b[0m\u001b[1;33m\u001b[0m\u001b[1;33m\u001b[0m\u001b[0m\n\u001b[0m\u001b[0;32m      3\u001b[0m     \u001b[1;32mif\u001b[0m \u001b[0mvalue\u001b[0m\u001b[1;33m[\u001b[0m\u001b[1;36m0\u001b[0m\u001b[1;33m]\u001b[0m\u001b[1;33m<\u001b[0m\u001b[0mfit\u001b[0m\u001b[1;33m(\u001b[0m\u001b[0mSol_set\u001b[0m\u001b[1;33m[\u001b[0m\u001b[0mi\u001b[0m\u001b[1;33m]\u001b[0m\u001b[1;33m)\u001b[0m\u001b[1;33m[\u001b[0m\u001b[1;36m0\u001b[0m\u001b[1;33m]\u001b[0m\u001b[1;33m:\u001b[0m\u001b[1;33m\u001b[0m\u001b[1;33m\u001b[0m\u001b[0m\n\u001b[0;32m      4\u001b[0m         \u001b[0mvalue\u001b[0m \u001b[1;33m=\u001b[0m\u001b[0mfit\u001b[0m\u001b[1;33m(\u001b[0m\u001b[0mSol_set\u001b[0m\u001b[1;33m[\u001b[0m\u001b[0mi\u001b[0m\u001b[1;33m]\u001b[0m\u001b[1;33m)\u001b[0m\u001b[1;33m[\u001b[0m\u001b[1;36m0\u001b[0m\u001b[1;33m]\u001b[0m\u001b[1;33m,\u001b[0m\u001b[0mi\u001b[0m\u001b[1;33m\u001b[0m\u001b[1;33m\u001b[0m\u001b[0m\n\u001b[0;32m      5\u001b[0m     \u001b[0mSol_set\u001b[0m\u001b[1;33m[\u001b[0m\u001b[0mi\u001b[0m\u001b[1;33m]\u001b[0m\u001b[1;33m.\u001b[0m\u001b[0mappend\u001b[0m\u001b[1;33m(\u001b[0m\u001b[0mvalue\u001b[0m\u001b[1;33m)\u001b[0m\u001b[1;33m\u001b[0m\u001b[1;33m\u001b[0m\u001b[0m\n",
      "\u001b[1;32mc:\\Users\\17524\\Anaconda3\\lib\\site-packages\\tqdm\\std.py\u001b[0m in \u001b[0;36m__iter__\u001b[1;34m(self)\u001b[0m\n\u001b[0;32m   1099\u001b[0m                     \u001b[0mself\u001b[0m\u001b[1;33m.\u001b[0m\u001b[0mn\u001b[0m \u001b[1;33m=\u001b[0m \u001b[0mn\u001b[0m\u001b[1;33m\u001b[0m\u001b[1;33m\u001b[0m\u001b[0m\n\u001b[0;32m   1100\u001b[0m                     \u001b[1;32mwith\u001b[0m \u001b[0mself\u001b[0m\u001b[1;33m.\u001b[0m\u001b[0m_lock\u001b[0m\u001b[1;33m:\u001b[0m\u001b[1;33m\u001b[0m\u001b[1;33m\u001b[0m\u001b[0m\n\u001b[1;32m-> 1101\u001b[1;33m                         \u001b[0mself\u001b[0m\u001b[1;33m.\u001b[0m\u001b[0mdisplay\u001b[0m\u001b[1;33m(\u001b[0m\u001b[1;33m)\u001b[0m\u001b[1;33m\u001b[0m\u001b[1;33m\u001b[0m\u001b[0m\n\u001b[0m\u001b[0;32m   1102\u001b[0m \u001b[1;33m\u001b[0m\u001b[0m\n\u001b[0;32m   1103\u001b[0m                     \u001b[1;31m# If no `miniters` was specified, adjust automatically\u001b[0m\u001b[1;33m\u001b[0m\u001b[1;33m\u001b[0m\u001b[1;33m\u001b[0m\u001b[0m\n",
      "\u001b[1;32mc:\\Users\\17524\\Anaconda3\\lib\\site-packages\\tqdm\\std.py\u001b[0m in \u001b[0;36mdisplay\u001b[1;34m(self, msg, pos)\u001b[0m\n\u001b[0;32m   1395\u001b[0m         \u001b[1;32mif\u001b[0m \u001b[0mpos\u001b[0m\u001b[1;33m:\u001b[0m\u001b[1;33m\u001b[0m\u001b[1;33m\u001b[0m\u001b[0m\n\u001b[0;32m   1396\u001b[0m             \u001b[0mself\u001b[0m\u001b[1;33m.\u001b[0m\u001b[0mmoveto\u001b[0m\u001b[1;33m(\u001b[0m\u001b[0mpos\u001b[0m\u001b[1;33m)\u001b[0m\u001b[1;33m\u001b[0m\u001b[1;33m\u001b[0m\u001b[0m\n\u001b[1;32m-> 1397\u001b[1;33m         \u001b[0mself\u001b[0m\u001b[1;33m.\u001b[0m\u001b[0msp\u001b[0m\u001b[1;33m(\u001b[0m\u001b[0mself\u001b[0m\u001b[1;33m.\u001b[0m\u001b[0m__repr__\u001b[0m\u001b[1;33m(\u001b[0m\u001b[1;33m)\u001b[0m \u001b[1;32mif\u001b[0m \u001b[0mmsg\u001b[0m \u001b[1;32mis\u001b[0m \u001b[1;32mNone\u001b[0m \u001b[1;32melse\u001b[0m \u001b[0mmsg\u001b[0m\u001b[1;33m)\u001b[0m\u001b[1;33m\u001b[0m\u001b[1;33m\u001b[0m\u001b[0m\n\u001b[0m\u001b[0;32m   1398\u001b[0m         \u001b[1;32mif\u001b[0m \u001b[0mpos\u001b[0m\u001b[1;33m:\u001b[0m\u001b[1;33m\u001b[0m\u001b[1;33m\u001b[0m\u001b[0m\n\u001b[0;32m   1399\u001b[0m             \u001b[0mself\u001b[0m\u001b[1;33m.\u001b[0m\u001b[0mmoveto\u001b[0m\u001b[1;33m(\u001b[0m\u001b[1;33m-\u001b[0m\u001b[0mpos\u001b[0m\u001b[1;33m)\u001b[0m\u001b[1;33m\u001b[0m\u001b[1;33m\u001b[0m\u001b[0m\n",
      "\u001b[1;32mc:\\Users\\17524\\Anaconda3\\lib\\site-packages\\tqdm\\std.py\u001b[0m in \u001b[0;36mprint_status\u001b[1;34m(s)\u001b[0m\n\u001b[0;32m    302\u001b[0m         \u001b[1;32mdef\u001b[0m \u001b[0mprint_status\u001b[0m\u001b[1;33m(\u001b[0m\u001b[0ms\u001b[0m\u001b[1;33m)\u001b[0m\u001b[1;33m:\u001b[0m\u001b[1;33m\u001b[0m\u001b[1;33m\u001b[0m\u001b[0m\n\u001b[0;32m    303\u001b[0m             \u001b[0mlen_s\u001b[0m \u001b[1;33m=\u001b[0m \u001b[0mlen\u001b[0m\u001b[1;33m(\u001b[0m\u001b[0ms\u001b[0m\u001b[1;33m)\u001b[0m\u001b[1;33m\u001b[0m\u001b[1;33m\u001b[0m\u001b[0m\n\u001b[1;32m--> 304\u001b[1;33m             \u001b[0mfp_write\u001b[0m\u001b[1;33m(\u001b[0m\u001b[1;34m'\\r'\u001b[0m \u001b[1;33m+\u001b[0m \u001b[0ms\u001b[0m \u001b[1;33m+\u001b[0m \u001b[1;33m(\u001b[0m\u001b[1;34m' '\u001b[0m \u001b[1;33m*\u001b[0m \u001b[0mmax\u001b[0m\u001b[1;33m(\u001b[0m\u001b[0mlast_len\u001b[0m\u001b[1;33m[\u001b[0m\u001b[1;36m0\u001b[0m\u001b[1;33m]\u001b[0m \u001b[1;33m-\u001b[0m \u001b[0mlen_s\u001b[0m\u001b[1;33m,\u001b[0m \u001b[1;36m0\u001b[0m\u001b[1;33m)\u001b[0m\u001b[1;33m)\u001b[0m\u001b[1;33m)\u001b[0m\u001b[1;33m\u001b[0m\u001b[1;33m\u001b[0m\u001b[0m\n\u001b[0m\u001b[0;32m    305\u001b[0m             \u001b[0mlast_len\u001b[0m\u001b[1;33m[\u001b[0m\u001b[1;36m0\u001b[0m\u001b[1;33m]\u001b[0m \u001b[1;33m=\u001b[0m \u001b[0mlen_s\u001b[0m\u001b[1;33m\u001b[0m\u001b[1;33m\u001b[0m\u001b[0m\n\u001b[0;32m    306\u001b[0m \u001b[1;33m\u001b[0m\u001b[0m\n",
      "\u001b[1;32mc:\\Users\\17524\\Anaconda3\\lib\\site-packages\\tqdm\\std.py\u001b[0m in \u001b[0;36mfp_write\u001b[1;34m(s)\u001b[0m\n\u001b[0;32m    295\u001b[0m \u001b[1;33m\u001b[0m\u001b[0m\n\u001b[0;32m    296\u001b[0m         \u001b[1;32mdef\u001b[0m \u001b[0mfp_write\u001b[0m\u001b[1;33m(\u001b[0m\u001b[0ms\u001b[0m\u001b[1;33m)\u001b[0m\u001b[1;33m:\u001b[0m\u001b[1;33m\u001b[0m\u001b[1;33m\u001b[0m\u001b[0m\n\u001b[1;32m--> 297\u001b[1;33m             \u001b[0mfp\u001b[0m\u001b[1;33m.\u001b[0m\u001b[0mwrite\u001b[0m\u001b[1;33m(\u001b[0m\u001b[0m_unicode\u001b[0m\u001b[1;33m(\u001b[0m\u001b[0ms\u001b[0m\u001b[1;33m)\u001b[0m\u001b[1;33m)\u001b[0m\u001b[1;33m\u001b[0m\u001b[1;33m\u001b[0m\u001b[0m\n\u001b[0m\u001b[0;32m    298\u001b[0m             \u001b[0mfp_flush\u001b[0m\u001b[1;33m(\u001b[0m\u001b[1;33m)\u001b[0m\u001b[1;33m\u001b[0m\u001b[1;33m\u001b[0m\u001b[0m\n\u001b[0;32m    299\u001b[0m \u001b[1;33m\u001b[0m\u001b[0m\n",
      "\u001b[1;32mc:\\Users\\17524\\Anaconda3\\lib\\site-packages\\colorama\\ansitowin32.py\u001b[0m in \u001b[0;36mwrite\u001b[1;34m(self, text)\u001b[0m\n\u001b[0;32m     39\u001b[0m \u001b[1;33m\u001b[0m\u001b[0m\n\u001b[0;32m     40\u001b[0m     \u001b[1;32mdef\u001b[0m \u001b[0mwrite\u001b[0m\u001b[1;33m(\u001b[0m\u001b[0mself\u001b[0m\u001b[1;33m,\u001b[0m \u001b[0mtext\u001b[0m\u001b[1;33m)\u001b[0m\u001b[1;33m:\u001b[0m\u001b[1;33m\u001b[0m\u001b[1;33m\u001b[0m\u001b[0m\n\u001b[1;32m---> 41\u001b[1;33m         \u001b[0mself\u001b[0m\u001b[1;33m.\u001b[0m\u001b[0m__convertor\u001b[0m\u001b[1;33m.\u001b[0m\u001b[0mwrite\u001b[0m\u001b[1;33m(\u001b[0m\u001b[0mtext\u001b[0m\u001b[1;33m)\u001b[0m\u001b[1;33m\u001b[0m\u001b[1;33m\u001b[0m\u001b[0m\n\u001b[0m\u001b[0;32m     42\u001b[0m \u001b[1;33m\u001b[0m\u001b[0m\n\u001b[0;32m     43\u001b[0m     \u001b[1;32mdef\u001b[0m \u001b[0misatty\u001b[0m\u001b[1;33m(\u001b[0m\u001b[0mself\u001b[0m\u001b[1;33m)\u001b[0m\u001b[1;33m:\u001b[0m\u001b[1;33m\u001b[0m\u001b[1;33m\u001b[0m\u001b[0m\n",
      "\u001b[1;32mc:\\Users\\17524\\Anaconda3\\lib\\site-packages\\colorama\\ansitowin32.py\u001b[0m in \u001b[0;36mwrite\u001b[1;34m(self, text)\u001b[0m\n\u001b[0;32m    160\u001b[0m     \u001b[1;32mdef\u001b[0m \u001b[0mwrite\u001b[0m\u001b[1;33m(\u001b[0m\u001b[0mself\u001b[0m\u001b[1;33m,\u001b[0m \u001b[0mtext\u001b[0m\u001b[1;33m)\u001b[0m\u001b[1;33m:\u001b[0m\u001b[1;33m\u001b[0m\u001b[1;33m\u001b[0m\u001b[0m\n\u001b[0;32m    161\u001b[0m         \u001b[1;32mif\u001b[0m \u001b[0mself\u001b[0m\u001b[1;33m.\u001b[0m\u001b[0mstrip\u001b[0m \u001b[1;32mor\u001b[0m \u001b[0mself\u001b[0m\u001b[1;33m.\u001b[0m\u001b[0mconvert\u001b[0m\u001b[1;33m:\u001b[0m\u001b[1;33m\u001b[0m\u001b[1;33m\u001b[0m\u001b[0m\n\u001b[1;32m--> 162\u001b[1;33m             \u001b[0mself\u001b[0m\u001b[1;33m.\u001b[0m\u001b[0mwrite_and_convert\u001b[0m\u001b[1;33m(\u001b[0m\u001b[0mtext\u001b[0m\u001b[1;33m)\u001b[0m\u001b[1;33m\u001b[0m\u001b[1;33m\u001b[0m\u001b[0m\n\u001b[0m\u001b[0;32m    163\u001b[0m         \u001b[1;32melse\u001b[0m\u001b[1;33m:\u001b[0m\u001b[1;33m\u001b[0m\u001b[1;33m\u001b[0m\u001b[0m\n\u001b[0;32m    164\u001b[0m             \u001b[0mself\u001b[0m\u001b[1;33m.\u001b[0m\u001b[0mwrapped\u001b[0m\u001b[1;33m.\u001b[0m\u001b[0mwrite\u001b[0m\u001b[1;33m(\u001b[0m\u001b[0mtext\u001b[0m\u001b[1;33m)\u001b[0m\u001b[1;33m\u001b[0m\u001b[1;33m\u001b[0m\u001b[0m\n",
      "\u001b[1;32mc:\\Users\\17524\\Anaconda3\\lib\\site-packages\\colorama\\ansitowin32.py\u001b[0m in \u001b[0;36mwrite_and_convert\u001b[1;34m(self, text)\u001b[0m\n\u001b[0;32m    188\u001b[0m             \u001b[0mself\u001b[0m\u001b[1;33m.\u001b[0m\u001b[0mconvert_ansi\u001b[0m\u001b[1;33m(\u001b[0m\u001b[1;33m*\u001b[0m\u001b[0mmatch\u001b[0m\u001b[1;33m.\u001b[0m\u001b[0mgroups\u001b[0m\u001b[1;33m(\u001b[0m\u001b[1;33m)\u001b[0m\u001b[1;33m)\u001b[0m\u001b[1;33m\u001b[0m\u001b[1;33m\u001b[0m\u001b[0m\n\u001b[0;32m    189\u001b[0m             \u001b[0mcursor\u001b[0m \u001b[1;33m=\u001b[0m \u001b[0mend\u001b[0m\u001b[1;33m\u001b[0m\u001b[1;33m\u001b[0m\u001b[0m\n\u001b[1;32m--> 190\u001b[1;33m         \u001b[0mself\u001b[0m\u001b[1;33m.\u001b[0m\u001b[0mwrite_plain_text\u001b[0m\u001b[1;33m(\u001b[0m\u001b[0mtext\u001b[0m\u001b[1;33m,\u001b[0m \u001b[0mcursor\u001b[0m\u001b[1;33m,\u001b[0m \u001b[0mlen\u001b[0m\u001b[1;33m(\u001b[0m\u001b[0mtext\u001b[0m\u001b[1;33m)\u001b[0m\u001b[1;33m)\u001b[0m\u001b[1;33m\u001b[0m\u001b[1;33m\u001b[0m\u001b[0m\n\u001b[0m\u001b[0;32m    191\u001b[0m \u001b[1;33m\u001b[0m\u001b[0m\n\u001b[0;32m    192\u001b[0m \u001b[1;33m\u001b[0m\u001b[0m\n",
      "\u001b[1;32mc:\\Users\\17524\\Anaconda3\\lib\\site-packages\\colorama\\ansitowin32.py\u001b[0m in \u001b[0;36mwrite_plain_text\u001b[1;34m(self, text, start, end)\u001b[0m\n\u001b[0;32m    193\u001b[0m     \u001b[1;32mdef\u001b[0m \u001b[0mwrite_plain_text\u001b[0m\u001b[1;33m(\u001b[0m\u001b[0mself\u001b[0m\u001b[1;33m,\u001b[0m \u001b[0mtext\u001b[0m\u001b[1;33m,\u001b[0m \u001b[0mstart\u001b[0m\u001b[1;33m,\u001b[0m \u001b[0mend\u001b[0m\u001b[1;33m)\u001b[0m\u001b[1;33m:\u001b[0m\u001b[1;33m\u001b[0m\u001b[1;33m\u001b[0m\u001b[0m\n\u001b[0;32m    194\u001b[0m         \u001b[1;32mif\u001b[0m \u001b[0mstart\u001b[0m \u001b[1;33m<\u001b[0m \u001b[0mend\u001b[0m\u001b[1;33m:\u001b[0m\u001b[1;33m\u001b[0m\u001b[1;33m\u001b[0m\u001b[0m\n\u001b[1;32m--> 195\u001b[1;33m             \u001b[0mself\u001b[0m\u001b[1;33m.\u001b[0m\u001b[0mwrapped\u001b[0m\u001b[1;33m.\u001b[0m\u001b[0mwrite\u001b[0m\u001b[1;33m(\u001b[0m\u001b[0mtext\u001b[0m\u001b[1;33m[\u001b[0m\u001b[0mstart\u001b[0m\u001b[1;33m:\u001b[0m\u001b[0mend\u001b[0m\u001b[1;33m]\u001b[0m\u001b[1;33m)\u001b[0m\u001b[1;33m\u001b[0m\u001b[1;33m\u001b[0m\u001b[0m\n\u001b[0m\u001b[0;32m    196\u001b[0m             \u001b[0mself\u001b[0m\u001b[1;33m.\u001b[0m\u001b[0mwrapped\u001b[0m\u001b[1;33m.\u001b[0m\u001b[0mflush\u001b[0m\u001b[1;33m(\u001b[0m\u001b[1;33m)\u001b[0m\u001b[1;33m\u001b[0m\u001b[1;33m\u001b[0m\u001b[0m\n\u001b[0;32m    197\u001b[0m \u001b[1;33m\u001b[0m\u001b[0m\n",
      "\u001b[1;32mc:\\Users\\17524\\Anaconda3\\lib\\site-packages\\ipykernel\\iostream.py\u001b[0m in \u001b[0;36mwrite\u001b[1;34m(self, string)\u001b[0m\n\u001b[0;32m    400\u001b[0m             \u001b[0mis_child\u001b[0m \u001b[1;33m=\u001b[0m \u001b[1;33m(\u001b[0m\u001b[1;32mnot\u001b[0m \u001b[0mself\u001b[0m\u001b[1;33m.\u001b[0m\u001b[0m_is_master_process\u001b[0m\u001b[1;33m(\u001b[0m\u001b[1;33m)\u001b[0m\u001b[1;33m)\u001b[0m\u001b[1;33m\u001b[0m\u001b[1;33m\u001b[0m\u001b[0m\n\u001b[0;32m    401\u001b[0m             \u001b[1;31m# only touch the buffer in the IO thread to avoid races\u001b[0m\u001b[1;33m\u001b[0m\u001b[1;33m\u001b[0m\u001b[1;33m\u001b[0m\u001b[0m\n\u001b[1;32m--> 402\u001b[1;33m             \u001b[0mself\u001b[0m\u001b[1;33m.\u001b[0m\u001b[0mpub_thread\u001b[0m\u001b[1;33m.\u001b[0m\u001b[0mschedule\u001b[0m\u001b[1;33m(\u001b[0m\u001b[1;32mlambda\u001b[0m \u001b[1;33m:\u001b[0m \u001b[0mself\u001b[0m\u001b[1;33m.\u001b[0m\u001b[0m_buffer\u001b[0m\u001b[1;33m.\u001b[0m\u001b[0mwrite\u001b[0m\u001b[1;33m(\u001b[0m\u001b[0mstring\u001b[0m\u001b[1;33m)\u001b[0m\u001b[1;33m)\u001b[0m\u001b[1;33m\u001b[0m\u001b[1;33m\u001b[0m\u001b[0m\n\u001b[0m\u001b[0;32m    403\u001b[0m             \u001b[1;32mif\u001b[0m \u001b[0mis_child\u001b[0m\u001b[1;33m:\u001b[0m\u001b[1;33m\u001b[0m\u001b[1;33m\u001b[0m\u001b[0m\n\u001b[0;32m    404\u001b[0m                 \u001b[1;31m# newlines imply flush in subprocesses\u001b[0m\u001b[1;33m\u001b[0m\u001b[1;33m\u001b[0m\u001b[1;33m\u001b[0m\u001b[0m\n",
      "\u001b[1;32mc:\\Users\\17524\\Anaconda3\\lib\\site-packages\\ipykernel\\iostream.py\u001b[0m in \u001b[0;36mschedule\u001b[1;34m(self, f)\u001b[0m\n\u001b[0;32m    203\u001b[0m             \u001b[0mself\u001b[0m\u001b[1;33m.\u001b[0m\u001b[0m_events\u001b[0m\u001b[1;33m.\u001b[0m\u001b[0mappend\u001b[0m\u001b[1;33m(\u001b[0m\u001b[0mf\u001b[0m\u001b[1;33m)\u001b[0m\u001b[1;33m\u001b[0m\u001b[1;33m\u001b[0m\u001b[0m\n\u001b[0;32m    204\u001b[0m             \u001b[1;31m# wake event thread (message content is ignored)\u001b[0m\u001b[1;33m\u001b[0m\u001b[1;33m\u001b[0m\u001b[1;33m\u001b[0m\u001b[0m\n\u001b[1;32m--> 205\u001b[1;33m             \u001b[0mself\u001b[0m\u001b[1;33m.\u001b[0m\u001b[0m_event_pipe\u001b[0m\u001b[1;33m.\u001b[0m\u001b[0msend\u001b[0m\u001b[1;33m(\u001b[0m\u001b[1;34mb''\u001b[0m\u001b[1;33m)\u001b[0m\u001b[1;33m\u001b[0m\u001b[1;33m\u001b[0m\u001b[0m\n\u001b[0m\u001b[0;32m    206\u001b[0m         \u001b[1;32melse\u001b[0m\u001b[1;33m:\u001b[0m\u001b[1;33m\u001b[0m\u001b[1;33m\u001b[0m\u001b[0m\n\u001b[0;32m    207\u001b[0m             \u001b[0mf\u001b[0m\u001b[1;33m(\u001b[0m\u001b[1;33m)\u001b[0m\u001b[1;33m\u001b[0m\u001b[1;33m\u001b[0m\u001b[0m\n",
      "\u001b[1;32mc:\\Users\\17524\\Anaconda3\\lib\\site-packages\\zmq\\sugar\\socket.py\u001b[0m in \u001b[0;36msend\u001b[1;34m(self, data, flags, copy, track, routing_id, group)\u001b[0m\n\u001b[0;32m    398\u001b[0m                                  copy_threshold=self.copy_threshold)\n\u001b[0;32m    399\u001b[0m             \u001b[0mdata\u001b[0m\u001b[1;33m.\u001b[0m\u001b[0mgroup\u001b[0m \u001b[1;33m=\u001b[0m \u001b[0mgroup\u001b[0m\u001b[1;33m\u001b[0m\u001b[1;33m\u001b[0m\u001b[0m\n\u001b[1;32m--> 400\u001b[1;33m         \u001b[1;32mreturn\u001b[0m \u001b[0msuper\u001b[0m\u001b[1;33m(\u001b[0m\u001b[0mSocket\u001b[0m\u001b[1;33m,\u001b[0m \u001b[0mself\u001b[0m\u001b[1;33m)\u001b[0m\u001b[1;33m.\u001b[0m\u001b[0msend\u001b[0m\u001b[1;33m(\u001b[0m\u001b[0mdata\u001b[0m\u001b[1;33m,\u001b[0m \u001b[0mflags\u001b[0m\u001b[1;33m=\u001b[0m\u001b[0mflags\u001b[0m\u001b[1;33m,\u001b[0m \u001b[0mcopy\u001b[0m\u001b[1;33m=\u001b[0m\u001b[0mcopy\u001b[0m\u001b[1;33m,\u001b[0m \u001b[0mtrack\u001b[0m\u001b[1;33m=\u001b[0m\u001b[0mtrack\u001b[0m\u001b[1;33m)\u001b[0m\u001b[1;33m\u001b[0m\u001b[1;33m\u001b[0m\u001b[0m\n\u001b[0m\u001b[0;32m    401\u001b[0m \u001b[1;33m\u001b[0m\u001b[0m\n\u001b[0;32m    402\u001b[0m     \u001b[1;32mdef\u001b[0m \u001b[0msend_multipart\u001b[0m\u001b[1;33m(\u001b[0m\u001b[0mself\u001b[0m\u001b[1;33m,\u001b[0m \u001b[0mmsg_parts\u001b[0m\u001b[1;33m,\u001b[0m \u001b[0mflags\u001b[0m\u001b[1;33m=\u001b[0m\u001b[1;36m0\u001b[0m\u001b[1;33m,\u001b[0m \u001b[0mcopy\u001b[0m\u001b[1;33m=\u001b[0m\u001b[1;32mTrue\u001b[0m\u001b[1;33m,\u001b[0m \u001b[0mtrack\u001b[0m\u001b[1;33m=\u001b[0m\u001b[1;32mFalse\u001b[0m\u001b[1;33m,\u001b[0m \u001b[1;33m**\u001b[0m\u001b[0mkwargs\u001b[0m\u001b[1;33m)\u001b[0m\u001b[1;33m:\u001b[0m\u001b[1;33m\u001b[0m\u001b[1;33m\u001b[0m\u001b[0m\n",
      "\u001b[1;32mzmq/backend/cython/socket.pyx\u001b[0m in \u001b[0;36mzmq.backend.cython.socket.Socket.send\u001b[1;34m()\u001b[0m\n",
      "\u001b[1;32mzmq/backend/cython/socket.pyx\u001b[0m in \u001b[0;36mzmq.backend.cython.socket.Socket.send\u001b[1;34m()\u001b[0m\n",
      "\u001b[1;32mzmq/backend/cython/socket.pyx\u001b[0m in \u001b[0;36mzmq.backend.cython.socket._send_copy\u001b[1;34m()\u001b[0m\n",
      "\u001b[1;32mc:\\Users\\17524\\Anaconda3\\lib\\site-packages\\zmq\\backend\\cython\\checkrc.pxd\u001b[0m in \u001b[0;36mzmq.backend.cython.checkrc._check_rc\u001b[1;34m()\u001b[0m\n",
      "\u001b[1;31mKeyboardInterrupt\u001b[0m: "
     ]
    }
   ],
   "source": [
    "value =[0,0]\n",
    "for i in tqdm(range(100),ncols=10):\n",
    "    Sol_set[i].append(fit(Sol_set[i])[0])"
   ]
  },
  {
   "cell_type": "code",
   "execution_count": null,
   "metadata": {},
   "outputs": [],
   "source": []
  },
  {
   "cell_type": "code",
   "execution_count": null,
   "metadata": {},
   "outputs": [
    {
     "data": {
      "text/plain": [
       "[0, 1, 2, 3, 4, 5, 6, 7, 8, 9, 10, 11, 12, 13, 14, 15, 16, 17, 18, 19]"
      ]
     },
     "execution_count": 175,
     "metadata": {},
     "output_type": "execute_result"
    }
   ],
   "source": [
    "x = list(np.arange(20))\n",
    "y = list(np.zeros(20))"
   ]
  },
  {
   "cell_type": "code",
   "execution_count": null,
   "metadata": {},
   "outputs": [],
   "source": [
    "def select(List1,List2,SLD_size):\n",
    "    begin = random.randint(SLD_size,len(List1)-SLD_size)\n",
    "    temp =List1[begin:begin+SLD_size] \n",
    "    List1[begin:begin+SLD_size]=List2[begin:begin+SLD_size]\n",
    "    List2[begin:begin+SLD_size] = temp\n",
    "    return List1,List2\n",
    "\n"
   ]
  },
  {
   "cell_type": "code",
   "execution_count": null,
   "metadata": {},
   "outputs": [
    {
     "data": {
      "text/plain": [
       "([0,\n",
       "  1,\n",
       "  2,\n",
       "  3,\n",
       "  0.0,\n",
       "  5,\n",
       "  6,\n",
       "  7,\n",
       "  0.0,\n",
       "  9,\n",
       "  10,\n",
       "  11,\n",
       "  12,\n",
       "  13,\n",
       "  14,\n",
       "  15,\n",
       "  0.0,\n",
       "  0.0,\n",
       "  0.0,\n",
       "  0.0],\n",
       " [0.0,\n",
       "  0.0,\n",
       "  0.0,\n",
       "  0.0,\n",
       "  4,\n",
       "  0.0,\n",
       "  0.0,\n",
       "  0.0,\n",
       "  8,\n",
       "  0.0,\n",
       "  0.0,\n",
       "  0.0,\n",
       "  0.0,\n",
       "  0.0,\n",
       "  0.0,\n",
       "  0.0,\n",
       "  16,\n",
       "  17,\n",
       "  18,\n",
       "  19])"
      ]
     },
     "execution_count": 180,
     "metadata": {},
     "output_type": "execute_result"
    }
   ],
   "source": [
    "select(x,y,4)"
   ]
  },
  {
   "cell_type": "code",
   "execution_count": null,
   "metadata": {},
   "outputs": [
    {
     "name": "stdout",
     "output_type": "stream",
     "text": [
      "\n",
      "*** Profile printout saved to text file 'lprof0'. \n",
      "Timer unit: 1e-07 s\n",
      "\n",
      "Total time: 2.25e-05 s\n",
      "File: <ipython-input-178-c9e37017f968>\n",
      "Function: select at line 1\n",
      "\n",
      "Line #      Hits         Time  Per Hit   % Time  Line Contents\n",
      "==============================================================\n",
      "     1                                           def select(List1,List2,SLD_size):\n",
      "     2         1        201.0    201.0     89.3      begin = random.randint(SLD_size,len(List1)-SLD_size)\n",
      "     3         1         10.0     10.0      4.4      temp =List1[begin:begin+SLD_size] \n",
      "     4         1          9.0      9.0      4.0      List1[begin:begin+SLD_size]=List2[begin:begin+SLD_size]\n",
      "     5         1          3.0      3.0      1.3      List2[begin:begin+SLD_size] = temp\n",
      "     6         1          2.0      2.0      0.9      return List1,List2\n"
     ]
    },
    {
     "name": "stdout",
     "output_type": "stream",
     "text": [
      "Timer unit: 1e-07 s\n",
      "\n",
      "Total time: 2.25e-05 s\n",
      "File: <ipython-input-178-c9e37017f968>\n",
      "Function: select at line 1\n",
      "\n",
      "Line #      Hits         Time  Per Hit   % Time  Line Contents\n",
      "==============================================================\n",
      "     1                                           def select(List1,List2,SLD_size):\n",
      "     2         1        201.0    201.0     89.3      begin = random.randint(SLD_size,len(List1)-SLD_size)\n",
      "     3         1         10.0     10.0      4.4      temp =List1[begin:begin+SLD_size] \n",
      "     4         1          9.0      9.0      4.0      List1[begin:begin+SLD_size]=List2[begin:begin+SLD_size]\n",
      "     5         1          3.0      3.0      1.3      List2[begin:begin+SLD_size] = temp\n",
      "     6         1          2.0      2.0      0.9      return List1,List2"
     ]
    }
   ],
   "source": [
    "\n",
    "%lprun -T lprof0 -f select \n",
    "print(open('lprof0', 'r').read())"
   ]
  }
 ],
 "metadata": {
  "kernelspec": {
   "display_name": "Python 3.9.12 ('base')",
   "language": "python",
   "name": "python3"
  },
  "language_info": {
   "codemirror_mode": {
    "name": "ipython",
    "version": 3
   },
   "file_extension": ".py",
   "mimetype": "text/x-python",
   "name": "python",
   "nbconvert_exporter": "python",
   "pygments_lexer": "ipython3",
   "version": "3.7.4"
  },
  "orig_nbformat": 4,
  "vscode": {
   "interpreter": {
    "hash": "6a81d01cf25d5cb27baae2d6889786b15d49b10dbcd992301732598194e0dc30"
   }
  }
 },
 "nbformat": 4,
 "nbformat_minor": 2
}
