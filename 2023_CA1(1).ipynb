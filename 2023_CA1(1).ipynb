{
 "cells": [
  {
   "cell_type": "markdown",
   "metadata": {},
   "source": [
    "# Numerical Ordinary Differential Equations and Applications\n",
    "## Computer Programming Assignment 1: Curves of Pursuit\n",
    "\n",
    "D. J. Higham and H. Yorston, \n",
    "School of Mathematics, University of Edinburgh, 2023"
   ]
  },
  {
   "cell_type": "markdown",
   "metadata": {},
   "source": [
    "In this first computer programming assignment we will investigate curves of pursuit with the Euler method. This is a template Jupyter notebook that (i) gets you started and (ii) sets the four tasks that make up the assignment.\n",
    "In order to complete the assigment, you must perform the four tasks by editing and/or adding further content to this notebook.\n",
    "Any figure that you produce should have labeled axes, a title, and where appropriate, a legend to distinguish between plots. Python code should include comments, in the manner of the examples provided here.\n",
    "To submit your completed work (a) create a pdf version of the notebook when all cells have been run (on a Mac/Safari system this may be done via \"File\", \"Print Preview\" and \"Export as PDF\"), (b) submit both the .ipynb and .pdf versions\" electronically on **Learn**. Hence, you are asked to submit two files: a Jupyter notebook and the corresponding pdf version. If there is any inconsistency between the two files, we will regard the .ipynb version as your definitive submission. Make sure that your name is clearly indicated at the top of notebook.\n",
    "The deadline is **midday on Friday 17th February** and, as for all continuous assessment in this course, **there are no extensions and standard University of Edinburgh penalties apply for late submission**. Please keep a record of your **electronic submission receipt**."
   ]
  },
  {
   "cell_type": "markdown",
   "metadata": {},
   "source": [
    "### Academic misconduct\n",
    "\n",
    "You are expected to be aware of and abide by University policies on academic misconduct.\n",
    "\n",
    "- [School of Mathematics academic misconduct advice and policies](https://teaching.maths.ed.ac.uk/main/undergraduate/studies/assessment/academic-misconduct)\n",
    "- [Academic Services academic misconduct information](https://www.ed.ac.uk/academic-services/students/conduct/academic-misconduct)\n"
   ]
  },
  {
   "cell_type": "markdown",
   "metadata": {},
   "source": [
    "First we will import some modules."
   ]
  },
  {
   "cell_type": "code",
   "execution_count": 2,
   "metadata": {},
   "outputs": [],
   "source": [
    "# Import the required modules\n",
    "import numpy as np                # scientific library\n",
    "import matplotlib.pyplot as plt   # for creating plots"
   ]
  },
  {
   "cell_type": "markdown",
   "metadata": {},
   "source": [
    "### Puppy Sees Kitten"
   ]
  },
  {
   "cell_type": "markdown",
   "metadata": {},
   "source": [
    "*Curves of pursuit* arise in many contexts where there is a moving target. Suppose a playful puppy meets a kitten in the garden. We will assume that, in an attempt to evade the puppy, the kitten follows a predefined path $(r(t),s(t))$. We will also assume that (a) the puppy moves at a speed that is a constant factor $k$ times the speed of the kitten and (b) the puppy chases in such a way that at all times its tangent points at the kitten. It is then possible to show that the path $(x(t),y(t))$ of the puppy satisfies a system of two ODEs \n",
    "\n",
    "$$  \n",
    "x'(t) = R(t) \\left( r(t) - x(t) \\right),\n",
    "$$\n",
    "$$\n",
    "y'(t) = R(t) \\left( s(t) - y(t) \\right),\n",
    "$$\n",
    "where\n",
    "$$\n",
    " R(t) = \\frac{ k \\sqrt{ r'(t)^2 + s'(t)^2} }{ \\sqrt{ (r(t) - x(t))^2  + (s(t) - y(t))^2} }.\n",
    "$$\n",
    "\n",
    "Suppose that initially, at time $t = 0$, the puppy is located at $(0,3)$\n",
    "Also suppose that the kitten follows the arc of a circle\n",
    "$$\n",
    " r(t) = 5 - 3 \\cos(t),\n",
    "$$\n",
    "$$\n",
    " s(t) = -3 \\sin(t).\n",
    "$$\n",
    " \n",
    "(Deriving this ODE system will be the subject of the Q&A sheet for week 4.)\n",
    " \n",
    "In the code below we apply the Euler method to this ODE system in the case where $k = 0.9$. We simulate over $ 0 \\le t \\le 5$ with a stepsize of $h = 0.01$. We have tried to make the code as simple as possible to follow. Note that we have used a while loop, rather than a for loop. Also, we update the numerical solution from one time point to the next by appending to an array. This structure is natural for the tasks that follow.  "
   ]
  },
  {
   "cell_type": "code",
   "execution_count": 3,
   "metadata": {
    "scrolled": false
   },
   "outputs": [
    {
     "data": {
      "image/png": "[encoded data removed]",
      "text/plain": [
       "<Figure size 432x288 with 1 Axes>"
      ]
     },
     "metadata": {
      "needs_background": "light"
     },
     "output_type": "display_data"
    }
   ],
   "source": [
    "xzero = 0.    # initial x value of puppy\n",
    "yzero = 3.    # initial y value of puppy\n",
    "T = 5.        # final value of t  \n",
    "h = 0.01      # stepsize\n",
    "\n",
    "k = 0.9\n",
    "t = 0.\n",
    "\n",
    "x = [xzero]\n",
    "y = [yzero]\n",
    "\n",
    "n = 0  # number of steps taken so far\n",
    "\n",
    "while t < T:              # the while loop structure will be useful for the tasks\n",
    "    ##### Evaluate RHS of ODE system #####\n",
    "    r = 5 - 3*np.cos(t)  # current x coord of kitten\n",
    "    s = -3*np.sin(t)     # current y coord of kitten\n",
    "    \n",
    "    rprime = 3*np.sin(t)   # time deriv of r\n",
    "    sprime = -3*np.cos(t)  # time deriv of s\n",
    "    \n",
    "    numerator = k*np.sqrt(rprime**2 + sprime**2)\n",
    "    denom = np.sqrt((r - x[n])**2 + (s - y[n])**2)\n",
    "    R = numerator/denom\n",
    "    xprime = R*(r-x[n])  # first component of ODE\n",
    "    yprime = R*(s-y[n])  # second component of ODE\n",
    "    #####################################\n",
    "    \n",
    "    ##### Take one step of Euler #######\n",
    "    x.append(x[n] + h*xprime)\n",
    "    y.append(y[n] + h*yprime)\n",
    "                 \n",
    "    # Update variables\n",
    "    n += 1\n",
    "    t += h\n",
    "                 \n",
    "# plot the solution\n",
    "N = len(x)                  # number of points in the path that we computed\n",
    "tvals = np.linspace(0,T,N)  # t values along the path\n",
    "\n",
    "plt.plot(tvals, x, 'o', markersize=2, label = 'x coordinate')\n",
    "plt.plot(tvals, y, 'rx', markersize=2, label = 'y coordinate')\n",
    "plt.xlabel('Time')\n",
    "plt.ylabel(r'Coordinates of Puppy')\n",
    "plt.title('Euler Method Result')\n",
    "plt.legend()\n",
    "plt.show()"
   ]
  },
  {
   "cell_type": "markdown",
   "metadata": {},
   "source": [
    "### Phase Plane\n",
    "To get a better feel for the behaviour of the puppy, we now produce a *phase plane* picture; that is, plot $x(t)$ on the x-axis against $y(t)$ on the y-axis. We also superimpose the path taken by the kitten on the same picture.\n"
   ]
  },
  {
   "cell_type": "code",
   "execution_count": 4,
   "metadata": {},
   "outputs": [
    {
     "data": {
      "image/png": "[encoded data removed]",
      "text/plain": [
       "<Figure size 432x288 with 1 Axes>"
      ]
     },
     "metadata": {
      "needs_background": "light"
     },
     "output_type": "display_data"
    }
   ],
   "source": [
    "#We haven't stored the kitten's path\n",
    "#So have to recompute it\n",
    "rvals = 5 - 3*np.cos(tvals)  # x coords of puppy\n",
    "svals = -3*np.sin(tvals)     # y coords of puppy\n",
    "plt.plot(x, y,'r-', markersize=2, label = 'puppy')\n",
    "plt.plot(rvals, svals,'c-', markersize=4, label = 'kitten')\n",
    "\n",
    "plt.xlabel('x-coordinate')\n",
    "plt.ylabel('y-coordinate')\n",
    "plt.title('Phase Plane Plot')\n",
    "plt.legend()\n",
    "plt.show()"
   ]
  },
  {
   "cell_type": "markdown",
   "metadata": {},
   "source": [
    "# Task 1\n",
    "\n",
    "[4 marks]\n",
    "\n",
    "The ODE system breaks down if $x(t) = r(t)$ and $y(t) = s(t)$. This makes sense---if the puppy and kitten are at the same point then the puppy can no longer move towards the kitten. In the case where $k > 1$ we would expect the puppy to catch up with the kitten at some finite time. Computationally, we can simulate the system until the puppy gets *sufficiently close* to the kitten. \n",
    "\n",
    "We will let $t^\\star$ denote the first time that the Euclidean distance between the puupy and kitten reaches ${10}^{-3}$. Using the value $k = 1.25$ (and using the same starting point for the puppy, the same path for the kitten and the same stepsize as in the example above), (a) compute and display an estimate for $t^\\star$ and (b) produce a new phase-plane figure that shows the paths of the puppy and kitten.\n",
    "\n",
    "Hint: you can copy and paste the code above, and then make the appropriate edits. You may wish to alter the while loop so that you have something of the form \"while the puppy and kitten are more than Euclidean distance $10^{-3}$ apart\". "
   ]
  },
  {
   "cell_type": "code",
   "execution_count": 15,
   "metadata": {},
   "outputs": [
    {
     "name": "stdout",
     "output_type": "stream",
     "text": [
      "estimate for t^* =  3.5899999999999674\n"
     ]
    },
    {
     "data": {
      "image/png": "[encoded data removed]",
      "text/plain": [
       "<Figure size 432x288 with 1 Axes>"
      ]
     },
     "metadata": {
      "needs_background": "light"
     },
     "output_type": "display_data"
    }
   ],
   "source": [
    "xzero = 0.    # initial x value of puppy\n",
    "yzero = 3.    # initial y value of puppy\n",
    "T = 5.        # final value of t  \n",
    "h = 0.01      # stepsize\n",
    "tol = 10**-3\n",
    "k = 1.25\n",
    "t_1 = 0.\n",
    "Dis = np.sqrt((3-0)**2+(0-2)**2)\n",
    "x = [xzero]\n",
    "y = [yzero]\n",
    "\n",
    "n = 0  # number of steps taken so far\n",
    "\n",
    "while Dis > tol:              # the while loop structure will be useful for the tasks\n",
    "    ##### Evaluate RHS of ODE system #####\n",
    "    r = 5 - 3*np.cos(t_1)  # current x coord of kitten\n",
    "    s = -3*np.sin(t_1)     # current y coord of kitten\n",
    "    \n",
    "    rprime = 3*np.sin(t_1)   # time deriv of r\n",
    "    sprime = -3*np.cos(t_1)  # time deriv of s\n",
    "    \n",
    "    numerator = k*np.sqrt(rprime**2 + sprime**2)\n",
    "    denom = np.sqrt((r - x[n])**2 + (s - y[n])**2)\n",
    "    R = numerator/denom\n",
    "    xprime = R*(r-x[n])  # first component of ODE\n",
    "    yprime = R*(s-y[n])  # second component of ODE\n",
    "    #####################################\n",
    "    \n",
    "    \n",
    "    ##### Take one step of Euler #######\n",
    "    x.append(x[n] + h*xprime)\n",
    "    y.append(y[n] + h*yprime)\n",
    "    \n",
    "             \n",
    "    # Update variables\n",
    "    n += 1\n",
    "    t_1 += h\n",
    "    Dis = denom\n",
    "    \n",
    "print('estimate for t^* = ',t_1-h)\n",
    "\n",
    "N = len(x)                  # number of points in the path that we computed\n",
    "tvals = np.linspace(0,T,N)\n",
    "\n",
    "rvals = 5 - 3*np.cos(tvals)  # x coords of puppy\n",
    "svals = -3*np.sin(tvals)     # y coords of puppy\n",
    "plt.plot(x, y,'r-', markersize=2, label = 'puppy')\n",
    "plt.plot(rvals, svals,'c-', markersize=4, label = 'kitten')\n",
    "\n",
    "plt.xlabel('x-coordinate')\n",
    "plt.ylabel('y-coordinate')\n",
    "plt.title('Phase Plane Plot')\n",
    "plt.legend()\n",
    "plt.show()\n"
   ]
  },
  {
   "cell_type": "markdown",
   "metadata": {},
   "source": [
    "# Task 2\n",
    "\n",
    "[6 marks]\n",
    "\n",
    "\n",
    "Your next task is to check the value of $t^\\star$ that you computed in Task 1 by repeating the computation for smaller values of the stepsize: try ${10}^{-3}$,..,${10}^{-5}$ (and, optionally, ${10}^{-6}$ if your computer is fast enough). By referring to your computational results, give an approximation to $t^\\star$ that you are confident is accurate to three significant figures. How does the error in your approximation appear to behave as a function of the stepsize? \n",
    "\n",
    "Hint: you could use the *input* command to allow the user to specify the variable h, and then observe and report the $t^\\star$ approximations that arise for different choices. More experienced Python users may wish to create a function that takes a value of $h$ and returns a value of $t^\\star$.\n"
   ]
  },
  {
   "cell_type": "code",
   "execution_count": 16,
   "metadata": {},
   "outputs": [],
   "source": [
    "\n",
    "H = [1e-3,1e-4,1e-5,1e-6]\n",
    "\n",
    "def find_t(h):\n",
    "    xzero = 0.    # initial x value of puppy\n",
    "    yzero = 3.\n",
    "    T = 10.\n",
    "    tol = 10**-3 \n",
    "    k = 1.25\n",
    "    t_1 = 0.\n",
    "    Dis = 3\n",
    "    x = [xzero]\n",
    "    y = [yzero]\n",
    "    n = 0\n",
    "\n",
    "    while Dis > tol:              # the while loop structure will be useful for the tasks\n",
    "        ##### Evaluate RHS of ODE system #####\n",
    "        r = 5 - 3*np.cos(t_1)  # current x coord of kitten\n",
    "        s = -3*np.sin(t_1)     # current y coord of kitten\n",
    "        \n",
    "        rprime = 3*np.sin(t_1)   # time deriv of r\n",
    "        sprime = -3*np.cos(t_1)  # time deriv of s\n",
    "        \n",
    "        numerator = k*np.sqrt(rprime**2 + sprime**2)\n",
    "        denom = np.sqrt((r - x[n])**2 + (s - y[n])**2)\n",
    "        R = numerator/denom\n",
    "        xprime = R*(r-x[n])  # first component of ODE\n",
    "        yprime = R*(s-y[n])  # second component of ODE\n",
    "        #####################################\n",
    "        \n",
    "        ##### Take one step of Euler #######\n",
    "        x.append(x[n] + h*xprime)\n",
    "        y.append(y[n] + h*yprime)\n",
    "        # Dis = np.sqrt((r-)**2+(y[n]-svals[n])**2)       \n",
    "        # Update variables\n",
    "        n += 1\n",
    "        t_1 += h\n",
    "        Dis = denom\n",
    "    return t_1-h"
   ]
  },
  {
   "cell_type": "code",
   "execution_count": 17,
   "metadata": {},
   "outputs": [
    {
     "name": "stdout",
     "output_type": "stream",
     "text": [
      "For h = 0.001 t^* = 3.575999999999717\n",
      "\n",
      "For h = 0.0001 t^* = 3.574100000003118\n",
      "\n",
      "For h = 1e-05 t^* = 3.5739700000149464\n",
      "\n",
      "For h = 1e-06 t^* = 3.5739470001456546\n",
      "\n"
     ]
    }
   ],
   "source": [
    "Res= []\n",
    "for h in H:\n",
    "    Res.append(find_t(h))\n",
    "\n",
    "for i in range(4):\n",
    "    print('For h = {} t^* = {}\\n'.format(H[i],Res[i]))"
   ]
  },
  {
   "cell_type": "code",
   "execution_count": 18,
   "metadata": {},
   "outputs": [],
   "source": [
    "# Define the excat value for t \n",
    "EXCAT_Value=Res[3]\n",
    "#Compute the error\n",
    "ERR=[np.absolute(EXCAT_Value-Res[0]),np.absolute(EXCAT_Value-Res[1]),np.absolute(EXCAT_Value-Res[2])]\n"
   ]
  },
  {
   "cell_type": "code",
   "execution_count": 19,
   "metadata": {},
   "outputs": [
    {
     "data": {
      "text/html": [
       "<div>\n",
       "<style scoped>\n",
       "    .dataframe tbody tr th:only-of-type {\n",
       "        vertical-align: middle;\n",
       "    }\n",
       "\n",
       "    .dataframe tbody tr th {\n",
       "        vertical-align: top;\n",
       "    }\n",
       "\n",
       "    .dataframe thead th {\n",
       "        text-align: right;\n",
       "    }\n",
       "</style>\n",
       "<table border=\"1\" class=\"dataframe\">\n",
       "  <thead>\n",
       "    <tr style=\"text-align: right;\">\n",
       "      <th></th>\n",
       "      <th>h</th>\n",
       "      <th>Error</th>\n",
       "    </tr>\n",
       "  </thead>\n",
       "  <tbody>\n",
       "    <tr>\n",
       "      <th>0</th>\n",
       "      <td>0.00100</td>\n",
       "      <td>0.002053</td>\n",
       "    </tr>\n",
       "    <tr>\n",
       "      <th>1</th>\n",
       "      <td>0.00010</td>\n",
       "      <td>0.000153</td>\n",
       "    </tr>\n",
       "    <tr>\n",
       "      <th>2</th>\n",
       "      <td>0.00001</td>\n",
       "      <td>0.000023</td>\n",
       "    </tr>\n",
       "  </tbody>\n",
       "</table>\n",
       "</div>"
      ],
      "text/plain": [
       "         h     Error\n",
       "0  0.00100  0.002053\n",
       "1  0.00010  0.000153\n",
       "2  0.00001  0.000023"
      ]
     },
     "execution_count": 19,
     "metadata": {},
     "output_type": "execute_result"
    }
   ],
   "source": [
    "import pandas as pd\n",
    "#use table to print the error for different h\n",
    "df = pd.DataFrame(data=H[0:3],columns=['h'])\n",
    "df['Error']=ERR\n",
    "df\n",
    "\n"
   ]
  },
  {
   "cell_type": "code",
   "execution_count": 20,
   "metadata": {},
   "outputs": [
    {
     "data": {
      "text/plain": [
       "<matplotlib.legend.Legend at 0x134c342e0>"
      ]
     },
     "execution_count": 20,
     "metadata": {},
     "output_type": "execute_result"
    },
    {
     "data": {
      "image/png": "[encoded data removed]",
      "text/plain": [
       "<Figure size 432x288 with 1 Axes>"
      ]
     },
     "metadata": {
      "needs_background": "light"
     },
     "output_type": "display_data"
    }
   ],
   "source": [
    "#plot the graph for error in different h\n",
    "plt.plot(H[0:3],ERR)\n",
    "plt.scatter(H[0],ERR[0],label=r'$h=10^{-3}$')\n",
    "plt.scatter(H[1],ERR[1],label=r'$h=10^{-4}$')\n",
    "plt.scatter(H[2],ERR[2],label=r'$h=10^{-5}$')\n",
    "plt.xlabel(r'$h$')\n",
    "plt.ylabel('Error')\n",
    "plt.title('Error against Stepsize')\n",
    "plt.legend()"
   ]
  },
  {
   "cell_type": "markdown",
   "metadata": {},
   "source": [
    "Your estimate for $t^\\star$ and how you arrived at it:\n",
    "\n",
    "My estimate for $t^\\star$ to three significant figures is 3.57. This is arrived by campare the result for under different stepsize from $10^-3$ to $10^-6$. Since all the result have same value under 3sf Then it means it converge to 3.57.\n",
    "\n",
    "Your observation concerning how the error behaves as a function of the stepsize:\n",
    "\n",
    "From the plot and table we can noticed that as the stepsize $h$ decreases the error is also decreasing. Since the error is is find by taking the absolute value of the difference between $t^\\star$ at given $h$ and $t^\\star$ at $h=10^{-6}$. The error is seems to be scaled by the stepsize and seems to approach a fixed value.\n",
    "\n"
   ]
  },
  {
   "cell_type": "markdown",
   "metadata": {},
   "source": []
  },
  {
   "cell_type": "markdown",
   "metadata": {},
   "source": [
    "# Task 3\n",
    "\n",
    "[3 marks]\n",
    "\n",
    "Make up your own pair of functions $r(t)$ and $s(t)$ and choose values for $k$, $T$ and the initial location of the puppy. Plot the resulting phase diagram. Anything that is correctly implemented and looks different to the example above will be fine."
   ]
  },
  {
   "cell_type": "markdown",
   "metadata": {},
   "source": [
    "\n",
    "Suppose that initially, at time $t = 0$, the puppy is located at $(0,0)$\n",
    "Also suppose that the kitten follows the arc of a circle\n",
    "$$\n",
    " r(t) = 2 - 3 \\sin(t),\n",
    "$$\n",
    "$$\n",
    " s(t) = \\cos(t).\n",
    "$$\n",
    "$$K=1$$\n",
    "$$T=10$$\n"
   ]
  },
  {
   "cell_type": "code",
   "execution_count": 21,
   "metadata": {
    "scrolled": true
   },
   "outputs": [
    {
     "data": {
      "image/png": "[encoded data removed]",
      "text/plain": [
       "<Figure size 432x288 with 1 Axes>"
      ]
     },
     "metadata": {
      "needs_background": "light"
     },
     "output_type": "display_data"
    }
   ],
   "source": [
    "xzero = 0.    # initial x value of puppy\n",
    "yzero = 0.    # initial y value of puppy\n",
    "T = 10       # final value of t  \n",
    "h = 0.001     # stepsize\n",
    "tol = 10**-3\n",
    "k = 1\n",
    "t_1 = 0.\n",
    "Dis = np.sqrt((2-0)**2+(0-1)**2)\n",
    "x = [xzero]\n",
    "y = [yzero]\n",
    "\n",
    "n = 0  # number of steps taken so far\n",
    "\n",
    "while t_1 < T:              # the while loop structure will be useful for the tasks\n",
    "    ##### Evaluate RHS of ODE system #####\n",
    "    r = 2 - 3*np.sin(t_1)  # current x coord of kitten\n",
    "    s = np.cos(t_1)     # current y coord of kitten\n",
    "    \n",
    "    rprime = -3*np.cos(t_1)   # time deriv of r\n",
    "    sprime = -np.sin(t_1)  # time deriv of s\n",
    "    \n",
    "    numerator = k*np.sqrt(rprime**2 + sprime**2)\n",
    "    denom = np.sqrt((r - x[n])**2 + (s - y[n])**2)\n",
    "    R = numerator/denom\n",
    "    xprime = R*(r-x[n])  # first component of ODE\n",
    "    yprime = R*(s-y[n])  # second component of ODE\n",
    "    #####################################\n",
    "    \n",
    "    \n",
    "    ##### Take one step of Euler #######\n",
    "    x.append(x[n] + h*xprime)\n",
    "    y.append(y[n] + h*yprime)\n",
    "    # Dis = np.sqrt((r-)**2+(y[n]-svals[n])**2)\n",
    "    \n",
    "             \n",
    "    # Update variables\n",
    "    n += 1\n",
    "    t_1 += h\n",
    "\n",
    "\n",
    "N = len(x)                  # number of points in the path that we computed\n",
    "tvals = np.linspace(0,T,N)\n",
    "\n",
    "rvals = 2 - 3*np.sin(tvals)  # x coords of puppy\n",
    "svals = np.cos(tvals)     # y coords of puppy\n",
    "plt.plot(x, y,'r-', markersize=2, label = 'puppy')\n",
    "plt.plot(rvals, svals,'c-', markersize=4, label = 'kitten')\n",
    "\n",
    "plt.xlabel('x-coordinate')\n",
    "plt.ylabel('y-coordinate')\n",
    "plt.title('Phase Plane Plot')\n",
    "plt.legend()\n",
    "plt.show()\n"
   ]
  },
  {
   "cell_type": "markdown",
   "metadata": {},
   "source": [
    "# Task 4\n",
    "\n",
    "[7 marks]\n",
    "\n",
    "Suppose that the puppy starts at the point $(0,2)$. Suppose also that the kitten starts at the point $(2,0)$ and heads in a straight line along the positive horizontal axis. Finally, suppose that $k=1$, so that both animals have the same speed. \n",
    "\n",
    "In this circumstance, it can be shown that as $t \\to \\infty$ the distance between the two animals converges to a fixed value, $d^\\star$. Conduct an experiment to determine $d^\\star$ to three significant figures. As well as writing the python code and reporting your answer, briefly (i.e., in one or two sentences) discuss the sources of error in your computation. "
   ]
  },
  {
   "cell_type": "code",
   "execution_count": 39,
   "metadata": {},
   "outputs": [
    {
     "data": {
      "image/png": "[encoded data removed]",
      "text/plain": [
       "<Figure size 432x288 with 1 Axes>"
      ]
     },
     "metadata": {
      "needs_background": "light"
     },
     "output_type": "display_data"
    }
   ],
   "source": [
    "\n",
    "xzero = 0.    # initial x value of puppy\n",
    "yzero = 2.    # initial y value of puppy\n",
    "T = 1000       # final value of t  \n",
    "h = 0.00005     # stepsize\n",
    "tol = 10**-3\n",
    "k = 1\n",
    "t_1 = 0.\n",
    "x = [xzero]\n",
    "y = [yzero]\n",
    "\n",
    "n = 0  # number of steps taken so far\n",
    "\n",
    "while t_1 < T:              # the while loop structure will be useful for the tasks\n",
    "    ##### Evaluate RHS of ODE system #####\n",
    "    r = 2 +t_1  # current x coord of kitten\n",
    "    s = 0     # current y coord of kitten\n",
    "    \n",
    "    rprime = 1   # time deriv of r\n",
    "    sprime = 0 # time deriv of s\n",
    "    \n",
    "    numerator = k*np.sqrt(rprime**2 + sprime**2)\n",
    "    denom = np.sqrt((r - x[n])**2 + (s - y[n])**2)\n",
    "    R = numerator/denom\n",
    "    xprime = R*(r-x[n])  # first component of ODE\n",
    "    yprime = R*(s-y[n])  # second component of ODE\n",
    "    #####################################\n",
    "    \n",
    "    \n",
    "    ##### Take one step of Euler #######\n",
    "    x.append(x[n] + h*xprime)\n",
    "    y.append(y[n] + h*yprime)\n",
    "    # Dis = np.sqrt((r-)**2+(y[n]-svals[n])**2)\n",
    "    \n",
    "             \n",
    "    # Update variables\n",
    "    n += 1\n",
    "    t_1 += h\n",
    "    Dis = np.sqrt((x[n]-r)**2+(y[n]-s)**2)\n",
    "\n",
    "\n",
    "N = len(x)                  # number of points in the path that we computed\n",
    "tvals = np.linspace(0,T,N)\n",
    "\n",
    "rvals = 2+tvals  # x coords of puppy\n",
    "svals = 0*tvals    # y coords of puppy\n",
    "plt.plot(x, y,'r-', markersize=2, label = 'puppy')\n",
    "plt.plot(rvals, svals,'c-', markersize=4, label = 'kitten')\n",
    "\n",
    "plt.xlabel('x-coordinate')\n",
    "plt.ylabel('y-coordinate')\n",
    "plt.title('Phase Plane Plot')\n",
    "plt.legend()\n",
    "plt.show()\n"
   ]
  },
  {
   "cell_type": "code",
   "execution_count": 40,
   "metadata": {},
   "outputs": [
    {
     "name": "stdout",
     "output_type": "stream",
     "text": [
      "Final distance between puppy and kitten =  2.414167439204448 at T =  1000\n"
     ]
    },
    {
     "data": {
      "image/png": "[encoded data removed]",
      "text/plain": [
       "<Figure size 432x288 with 1 Axes>"
      ]
     },
     "metadata": {
      "needs_background": "light"
     },
     "output_type": "display_data"
    }
   ],
   "source": [
    "Dis=[]\n",
    "for i in range(N):\n",
    "    #compute the distance between puppy and kitten for each tvals\n",
    "    Dis.append(np.sqrt((x[i]-rvals[i])**2+(y[i]-svals[i])**2))\n",
    "plt.plot(tvals,Dis)\n",
    "plt.ylabel(r'Distance $d^\\star$')\n",
    "plt.xlabel('tvals')\n",
    "print('Final distance between puppy and kitten = ',np.sqrt((x[-1]-rvals[-1])**2+(y[-1]-svals[-1])**2),'at T = ',T)"
   ]
  },
  {
   "cell_type": "markdown",
   "metadata": {},
   "source": [
    "\n",
    "### Fix h change T:\n",
    "\n",
    "For $T = 100$, $h=0.001$, $d^\\star = 2.414286797634773$ \n",
    "\n",
    "For $T = 1000$, $h=0.001$, $d^\\star = 2.4132868144713484$ \n",
    "\n",
    "### Fix T change h:\n",
    "\n",
    "For $T = 1000$, $h=0.01$, $d^\\star = 2.4049470033769467$\n",
    "\n",
    "For $T = 1000$, $h=0.001$, $d^\\star = 2.4132868144713484$\n",
    "\n",
    "For $T = 1000$, $h=0.0001$, $d^\\star = 2.414121064033907$\n",
    "\n",
    "For $T = 1000$, $h=0.00005$, $d^\\star = 2.414167439204448$\n",
    "\n",
    "If we take $T = 1000$, $h=0.00005$ to be our excat in this case, then the errors are as follows:\n",
    "\n",
    "$T = 1000$, $h=0.01$: error of size $\\approx 9.22 \\times {10}^{-3}$\n",
    "\n",
    "$T = 1000$, $h=0.001$: error of size $\\approx 8.80\\times {10}^{-4}$\n",
    "\n",
    "$T = 1000$, $h=0.0001$: error of size $\\approx 4.64 \\times {10}^{-5}$"
   ]
  },
  {
   "cell_type": "markdown",
   "metadata": {},
   "source": [
    "The final estimate of $d^\\star=2.41$. According to the plot, it's enough to take $T=1000$ to represent $t \\to \\infty$. Then $d^\\star$ calculated by the Euclidean distance between the puppy and kitten at the final point. Under different stepsizes, I found that $d^\\star$ converges to 2.41 in three significant figures. In terms of the source of the error in this computation, the main source of error is the stepsize from the result above. \n",
    "\n",
    "Furthermore, from the three errors we had above, changing $h$ by a factor of 10 leads to the error size decrease by factor 10."
   ]
  }
 ],
 "metadata": {
  "kernelspec": {
   "display_name": "Python 3 (ipykernel)",
   "language": "python",
   "name": "python3"
  },
  "language_info": {
   "codemirror_mode": {
    "name": "ipython",
    "version": 3
   },
   "file_extension": ".py",
   "mimetype": "text/x-python",
   "name": "python",
   "nbconvert_exporter": "python",
   "pygments_lexer": "ipython3",
   "version": "3.9.12"
  },
  "vscode": {
   "interpreter": {
    "hash": "6a81d01cf25d5cb27baae2d6889786b15d49b10dbcd992301732598194e0dc30"
   }
  }
 },
 "nbformat": 4,
 "nbformat_minor": 1
}
