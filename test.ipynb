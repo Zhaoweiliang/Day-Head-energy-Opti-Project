{
 "cells": [
  {
   "cell_type": "code",
   "execution_count": 69,
   "metadata": {},
   "outputs": [],
   "source": [
    "import pandas as pd\n",
    "from Hourbid import *\n",
    "path = 'Result/HS.csv'\n",
    "\n",
    "\n",
    "\n",
    "def Find_H_Break(path,DF,SD):\n",
    "    \n",
    "    Data = pd.read_csv(path,header = None)\n",
    "    Res=[[] for i in range(24)]\n",
    "    for i in range(24):\n",
    "        for j in range(len(Data)):\n",
    "            if Data.values[j][i] >= 0.00001 and Data.values[j][i] <= 0.999999:\n",
    "                Res[i].append(j)\n",
    "                Res[i].append(Data.values[j][i])\n",
    "                Res[i].append(sum((Pair(j,i+1,DF,SD)[1]-Pair(j,i+1,DF,SD)[0]) * Data.values[j-1][i] for j in range(1,len(Data)+1)))\n",
    "                \n",
    "    return Res\n",
    "\n",
    "Res1 = Find_H_Break(path,DF=HourBid()[0],SD='SP')\n",
    "Res2 = Find_H_Break(path='Result/HD.csv',DF=HourBid()[1],SD='DP')\n",
    "\n",
    "\n",
    "\n",
    "\n",
    "\n",
    "    \n",
    "    \n"
   ]
  },
  {
   "cell_type": "code",
   "execution_count": 70,
   "metadata": {},
   "outputs": [
    {
     "data": {
      "text/plain": [
       "[409, 0.2740213523133036, 818.5600000000004]"
      ]
     },
     "execution_count": 70,
     "metadata": {},
     "output_type": "execute_result"
    }
   ],
   "source": [
    "Res1[5]"
   ]
  },
  {
   "cell_type": "code",
   "execution_count": 71,
   "metadata": {},
   "outputs": [],
   "source": [
    "from gurobipy import *\n",
    "import numpy as np\n",
    "import pandas as pd\n",
    "from Hourbid import *\n",
    "from Fibid import *\n",
    "from blockbid import *\n",
    "from OPT import *\n",
    "\n",
    "BS_bids = Blockbid()[0]\n",
    "BD_bids = Blockbid()[1]\n",
    "HS_bids = HourBid()[0]\n",
    "HD_bids = HourBid()[1]\n",
    "FS_bids = Fibid()[0]\n",
    "FD_bids = Fibid()[1]\n",
    "\n",
    "Delta_S = np.zeros([L_S,24])\n",
    "Delta_D = np.zeros([L_D,24])\n",
    "# For Demand\n",
    "for i in range (L_D):\n",
    "    if BD_bids['Hour'][i]+BD_bids['Duration'][i]<=25:\n",
    "        Delta_D[i,BD_bids['Hour'][i]-1:(BD_bids['Hour'][i]+BD_bids['Duration'][i])-1] = 1\n",
    "#For Demand\n",
    "for i in range (L_S):\n",
    "    if BS_bids['Hour'][i]+BS_bids['Duration'][i]<=25:\n",
    "        Delta_S[i,BS_bids['Hour'][i]-1:(BS_bids['Hour'][i]+BS_bids['Duration'][i])-1] = 1"
   ]
  },
  {
   "cell_type": "code",
   "execution_count": 72,
   "metadata": {},
   "outputs": [
    {
     "data": {
      "text/plain": [
       "'V_D[7,0]'"
      ]
     },
     "execution_count": 72,
     "metadata": {},
     "output_type": "execute_result"
    }
   ],
   "source": [
    "Data2 = pd.read_csv('Result/BD.csv',header = None)\n",
    "Data3 = pd.read_csv('Result/BS.csv',header = None)\n",
    "Data4 = pd.read_csv('Result/FS.csv',header = None)\n",
    "Data5 = pd.read_csv('Result/FD.csv',header = None)"
   ]
  },
  {
   "cell_type": "code",
   "execution_count": 73,
   "metadata": {},
   "outputs": [
    {
     "data": {
      "text/plain": [
       "0.0"
      ]
     },
     "execution_count": 73,
     "metadata": {},
     "output_type": "execute_result"
    }
   ],
   "source": [
    "-sum((Pair(j,6,HD_bids,'DQ')[1]-Pair(j,6,HD_bids,'DQ')[0]) * Data.values[j-1][5] for j in J ) +sum((Pair(j,6,HS_bids,'SQ')[1]-Pair(j,6,HS_bids,'SQ')[0])*Data.values[j-1][5] for j in J) -Pair(1,6,HD_bids,'DQ')[0] +Pair(1,6,HS_bids,'SQ')[0] \n",
    "+sum(Delta_S[i,6-1]*BS_bids['Quantity'][i]*Data3.values[i][1] for i in range(L_S))  -sum(Delta_D[i,6-1]*BD_bids['Quantity'][i]*Data2.values[i][1] for i in range(L_D))\n",
    "+sum(FS_bids['Quantity'][i]*Data4.values[L_FS*5+i][1]for i in range(L_FS))-sum(FD_bids['Quantity'][i]*Data5.values[L_FD*5+i][1]for i in range(L_FD))"
   ]
  },
  {
   "cell_type": "code",
   "execution_count": 74,
   "metadata": {},
   "outputs": [
    {
     "data": {
      "text/plain": [
       "'V_S[9,27]'"
      ]
     },
     "execution_count": 74,
     "metadata": {},
     "output_type": "execute_result"
    }
   ],
   "source": [
    "Data4.values[L_FS*5+i][0]"
   ]
  }
 ],
 "metadata": {
  "kernelspec": {
   "display_name": "Python 3.9.12 ('base')",
   "language": "python",
   "name": "python3"
  },
  "language_info": {
   "codemirror_mode": {
    "name": "ipython",
    "version": 3
   },
   "file_extension": ".py",
   "mimetype": "text/x-python",
   "name": "python",
   "nbconvert_exporter": "python",
   "pygments_lexer": "ipython3",
   "version": "3.9.12"
  },
  "orig_nbformat": 4,
  "vscode": {
   "interpreter": {
    "hash": "6a81d01cf25d5cb27baae2d6889786b15d49b10dbcd992301732598194e0dc30"
   }
  }
 },
 "nbformat": 4,
 "nbformat_minor": 2
}
