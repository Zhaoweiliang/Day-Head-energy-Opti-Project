{
 "cells": [
  {
   "cell_type": "code",
   "execution_count": 22,
   "metadata": {},
   "outputs": [],
   "source": [
    "import pandas as pd\n",
    "from Hourbid import *\n",
    "path = 'Result/HS.csv'\n",
    "\n",
    "HS_bids = HourBid()[0]\n",
    "HD_bids = HourBid()[1]\n",
    "\n",
    "def Find_H_Break(path,DF,SD):\n",
    "    \n",
    "    Data = pd.read_csv(path,header = None)\n",
    "    Res=[[] for i in range(24)]\n",
    "    for i in range(24):\n",
    "        for j in range(len(Data)):\n",
    "            if Data.values[j][i] >= 0.00001 and Data.values[j][i] <= 0.999999:\n",
    "                Res[i].append(j)\n",
    "                Res[i].append(Data.values[j][i])\n",
    "                Res[i].append(sum((Pair(j,i+1,DF,SD)[1]-Pair(j,i+1,DF,SD)[0]) * Data.values[j-1][i] for j in range(1,len(Data)+1)))\n",
    "                \n",
    "    return Res\n",
    "\n",
    "Res1 = Find_H_Break(path='Result/HS.csv',DF=HS_bids,SD='SP')\n",
    "Res2 = Find_H_Break(path='Result/HD.csv',DF=HD_bids,SD='DP')\n",
    "\n",
    "\n",
    "\n",
    "\n",
    "\n",
    "    \n",
    "    \n"
   ]
  },
  {
   "cell_type": "code",
   "execution_count": 1,
   "metadata": {},
   "outputs": [
    {
     "ename": "NameError",
     "evalue": "name 'Res2' is not defined",
     "output_type": "error",
     "traceback": [
      "\u001b[0;31m---------------------------------------------------------------------------\u001b[0m",
      "\u001b[0;31mNameError\u001b[0m                                 Traceback (most recent call last)",
      "\u001b[1;32m/Users/weiliang/Desktop/project/Project-without-E/test.ipynb Cell 2\u001b[0m in \u001b[0;36m<cell line: 1>\u001b[0;34m()\u001b[0m\n\u001b[0;32m----> <a href='vscode-notebook-cell:/Users/weiliang/Desktop/project/Project-without-E/test.ipynb#W1sZmlsZQ%3D%3D?line=0'>1</a>\u001b[0m Res2\n",
      "\u001b[0;31mNameError\u001b[0m: name 'Res2' is not defined"
     ]
    }
   ],
   "source": [
    "\n",
    "Res2"
   ]
  },
  {
   "cell_type": "code",
   "execution_count": 25,
   "metadata": {},
   "outputs": [
    {
     "data": {
      "text/plain": [
       "2000.000000000001"
      ]
     },
     "execution_count": 25,
     "metadata": {},
     "output_type": "execute_result"
    }
   ],
   "source": [
    "Res1[1][2]-Res2[1][2]"
   ]
  }
 ],
 "metadata": {
  "kernelspec": {
   "display_name": "base",
   "language": "python",
   "name": "python3"
  },
  "language_info": {
   "codemirror_mode": {
    "name": "ipython",
    "version": 3
   },
   "file_extension": ".py",
   "mimetype": "text/x-python",
   "name": "python",
   "nbconvert_exporter": "python",
   "pygments_lexer": "ipython3",
   "version": "3.7.4"
  },
  "orig_nbformat": 4,
  "vscode": {
   "interpreter": {
    "hash": "508db802f9f6741cf32012bdd54d8471fb9e1a6351e8dae4b8e1a46627ecc7cb"
   }
  }
 },
 "nbformat": 4,
 "nbformat_minor": 2
}
