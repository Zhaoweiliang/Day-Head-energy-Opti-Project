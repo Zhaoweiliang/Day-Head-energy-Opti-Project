{
 "cells": [
  {
   "cell_type": "code",
   "execution_count": 68,
   "metadata": {},
   "outputs": [],
   "source": [
    "import numpy as np\n",
    "import pandas as pd\n",
    "from blockbid import *\n",
    "BS_bids = Blockbid()[0]\n",
    "BD_bids = Blockbid()[1]\n",
    "L_D = len(BD_bids)\n",
    "L_S = len(BS_bids)"
   ]
  },
  {
   "cell_type": "code",
   "execution_count": 69,
   "metadata": {},
   "outputs": [],
   "source": [
    "x=np.arange(10,25)\n",
    "Res=[]\n",
    "Subres=[]"
   ]
  },
  {
   "cell_type": "code",
   "execution_count": 88,
   "metadata": {},
   "outputs": [
    {
     "data": {
      "text/plain": [
       "114"
      ]
     },
     "execution_count": 88,
     "metadata": {},
     "output_type": "execute_result"
    }
   ],
   "source": [
    "data"
   ]
  },
  {
   "cell_type": "code",
   "execution_count": 112,
   "metadata": {},
   "outputs": [
    {
     "data": {
      "text/html": [
       "<div>\n",
       "<style scoped>\n",
       "    .dataframe tbody tr th:only-of-type {\n",
       "        vertical-align: middle;\n",
       "    }\n",
       "\n",
       "    .dataframe tbody tr th {\n",
       "        vertical-align: top;\n",
       "    }\n",
       "\n",
       "    .dataframe thead th {\n",
       "        text-align: right;\n",
       "    }\n",
       "</style>\n",
       "<table border=\"1\" class=\"dataframe\">\n",
       "  <thead>\n",
       "    <tr style=\"text-align: right;\">\n",
       "      <th></th>\n",
       "      <th>0</th>\n",
       "      <th>1</th>\n",
       "      <th>2</th>\n",
       "      <th>3</th>\n",
       "      <th>4</th>\n",
       "      <th>5</th>\n",
       "    </tr>\n",
       "  </thead>\n",
       "  <tbody>\n",
       "    <tr>\n",
       "      <th>0</th>\n",
       "      <td>Veri_10.in</td>\n",
       "      <td>48000</td>\n",
       "      <td>195</td>\n",
       "      <td>90</td>\n",
       "      <td>50</td>\n",
       "      <td>NaN</td>\n",
       "    </tr>\n",
       "    <tr>\n",
       "      <th>1</th>\n",
       "      <td>Veri_11.in</td>\n",
       "      <td>48000</td>\n",
       "      <td>195</td>\n",
       "      <td>85</td>\n",
       "      <td>50</td>\n",
       "      <td>NaN</td>\n",
       "    </tr>\n",
       "    <tr>\n",
       "      <th>2</th>\n",
       "      <td>Veri_12.in</td>\n",
       "      <td>48000</td>\n",
       "      <td>200</td>\n",
       "      <td>90</td>\n",
       "      <td>50</td>\n",
       "      <td>NaN</td>\n",
       "    </tr>\n",
       "    <tr>\n",
       "      <th>3</th>\n",
       "      <td>Veri_13.in</td>\n",
       "      <td>48000</td>\n",
       "      <td>295</td>\n",
       "      <td>0</td>\n",
       "      <td>50</td>\n",
       "      <td>NaN</td>\n",
       "    </tr>\n",
       "    <tr>\n",
       "      <th>4</th>\n",
       "      <td>Veri_14.in</td>\n",
       "      <td>48000</td>\n",
       "      <td>295</td>\n",
       "      <td>0</td>\n",
       "      <td>50</td>\n",
       "      <td>NaN</td>\n",
       "    </tr>\n",
       "    <tr>\n",
       "      <th>...</th>\n",
       "      <td>...</td>\n",
       "      <td>...</td>\n",
       "      <td>...</td>\n",
       "      <td>...</td>\n",
       "      <td>...</td>\n",
       "      <td>...</td>\n",
       "    </tr>\n",
       "    <tr>\n",
       "      <th>85</th>\n",
       "      <td>Veri_20.in</td>\n",
       "      <td>48000</td>\n",
       "      <td>300</td>\n",
       "      <td>0</td>\n",
       "      <td>50</td>\n",
       "      <td>NaN</td>\n",
       "    </tr>\n",
       "    <tr>\n",
       "      <th>86</th>\n",
       "      <td>Veri_21.in</td>\n",
       "      <td>48000</td>\n",
       "      <td>295</td>\n",
       "      <td>115</td>\n",
       "      <td>50</td>\n",
       "      <td>NaN</td>\n",
       "    </tr>\n",
       "    <tr>\n",
       "      <th>87</th>\n",
       "      <td>Veri_22.in</td>\n",
       "      <td>48000</td>\n",
       "      <td>295</td>\n",
       "      <td>114</td>\n",
       "      <td>50</td>\n",
       "      <td>NaN</td>\n",
       "    </tr>\n",
       "    <tr>\n",
       "      <th>88</th>\n",
       "      <td>Veri_23.in</td>\n",
       "      <td>48000</td>\n",
       "      <td>295</td>\n",
       "      <td>96</td>\n",
       "      <td>50</td>\n",
       "      <td>NaN</td>\n",
       "    </tr>\n",
       "    <tr>\n",
       "      <th>89</th>\n",
       "      <td>Veri_24.in</td>\n",
       "      <td>48000</td>\n",
       "      <td>295</td>\n",
       "      <td>94</td>\n",
       "      <td>50</td>\n",
       "      <td>NaN</td>\n",
       "    </tr>\n",
       "  </tbody>\n",
       "</table>\n",
       "<p>90 rows × 6 columns</p>\n",
       "</div>"
      ],
      "text/plain": [
       "             0      1    2    3   4   5\n",
       "0   Veri_10.in  48000  195   90  50 NaN\n",
       "1   Veri_11.in  48000  195   85  50 NaN\n",
       "2   Veri_12.in  48000  200   90  50 NaN\n",
       "3   Veri_13.in  48000  295    0  50 NaN\n",
       "4   Veri_14.in  48000  295    0  50 NaN\n",
       "..         ...    ...  ...  ...  ..  ..\n",
       "85  Veri_20.in  48000  300    0  50 NaN\n",
       "86  Veri_21.in  48000  295  115  50 NaN\n",
       "87  Veri_22.in  48000  295  114  50 NaN\n",
       "88  Veri_23.in  48000  295   96  50 NaN\n",
       "89  Veri_24.in  48000  295   94  50 NaN\n",
       "\n",
       "[90 rows x 6 columns]"
      ]
     },
     "execution_count": 112,
     "metadata": {},
     "output_type": "execute_result"
    }
   ],
   "source": [
    "for i in x:\n",
    "    Data = pd.read_csv('/Users/weiliang/Downloads/drive-download-20230218T174928Z-001/Veri_{}.in'.format(i),header = None)\n",
    "    Data.columns= ['ID','OrderID','Hour','BitType','Quantity','price','Duration','LinkID']\n",
    "    Subres=[]\n",
    "    Subres.append('Veri_{}.in'.format(i))\n",
    "    Subres.append(len(np.where(Data['BitType']=='S')[0]))\n",
    "    Subres.append(len(np.where(Data['BitType']=='B')[0]))\n",
    "    child=[]\n",
    "    for i in np.where(Data.isnull()['LinkID']==False)[0]:\n",
    "        child.append(Data['LinkID'][i])\n",
    "    Subres.append(len(set(child)))\n",
    "    Subres.append(len(np.where(Data['BitType']=='F')[0]))\n",
    "    Res.append(Subres)\n",
    "RES=pd.DataFrame(Res)\n",
    "RES.to_csv()"
   ]
  },
  {
   "cell_type": "code",
   "execution_count": 73,
   "metadata": {},
   "outputs": [
    {
     "data": {
      "text/plain": [
       "48000"
      ]
     },
     "execution_count": 73,
     "metadata": {},
     "output_type": "execute_result"
    }
   ],
   "source": [
    "len(np.where(Data['BitType']=='S')[0])"
   ]
  },
  {
   "cell_type": "code",
   "execution_count": 74,
   "metadata": {},
   "outputs": [
    {
     "data": {
      "text/plain": [
       "50"
      ]
     },
     "execution_count": 74,
     "metadata": {},
     "output_type": "execute_result"
    }
   ],
   "source": [
    "len(np.where(Data['BitType']=='F')[0])"
   ]
  },
  {
   "cell_type": "code",
   "execution_count": 75,
   "metadata": {},
   "outputs": [
    {
     "data": {
      "text/plain": [
       "295"
      ]
     },
     "execution_count": 75,
     "metadata": {},
     "output_type": "execute_result"
    }
   ],
   "source": [
    "len(np.where(Data['BitType']=='B')[0])"
   ]
  },
  {
   "cell_type": "code",
   "execution_count": 76,
   "metadata": {},
   "outputs": [
    {
     "data": {
      "text/plain": [
       "130"
      ]
     },
     "execution_count": 76,
     "metadata": {},
     "output_type": "execute_result"
    }
   ],
   "source": [
    "len(np.where(Data.isnull()['LinkID']==False)[0])"
   ]
  }
 ],
 "metadata": {
  "kernelspec": {
   "display_name": "Python 3.9.12 ('base')",
   "language": "python",
   "name": "python3"
  },
  "language_info": {
   "codemirror_mode": {
    "name": "ipython",
    "version": 3
   },
   "file_extension": ".py",
   "mimetype": "text/x-python",
   "name": "python",
   "nbconvert_exporter": "python",
   "pygments_lexer": "ipython3",
   "version": "3.9.12"
  },
  "orig_nbformat": 4,
  "vscode": {
   "interpreter": {
    "hash": "6a81d01cf25d5cb27baae2d6889786b15d49b10dbcd992301732598194e0dc30"
   }
  }
 },
 "nbformat": 4,
 "nbformat_minor": 2
}
