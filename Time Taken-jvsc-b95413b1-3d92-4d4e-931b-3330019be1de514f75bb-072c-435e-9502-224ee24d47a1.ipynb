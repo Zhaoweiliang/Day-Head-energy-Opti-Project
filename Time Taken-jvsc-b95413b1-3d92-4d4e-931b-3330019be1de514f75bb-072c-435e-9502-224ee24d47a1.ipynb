{
 "cells": [
  {
   "cell_type": "code",
   "execution_count": null,
   "metadata": {},
   "outputs": [],
   "source": []
  }
 ],
 "metadata": {
  "kernelspec": {
   "display_name": "base",
   "language": "python",
   "name": "python3"
  },
  "language_info": {
   "name": "python",
   "version": "3.7.4"
  },
  "vscode": {
   "interpreter": {
    "hash": "508db802f9f6741cf32012bdd54d8471fb9e1a6351e8dae4b8e1a46627ecc7cb"
   }
  }
 },
 "nbformat": 4,
 "nbformat_minor": 5
}
